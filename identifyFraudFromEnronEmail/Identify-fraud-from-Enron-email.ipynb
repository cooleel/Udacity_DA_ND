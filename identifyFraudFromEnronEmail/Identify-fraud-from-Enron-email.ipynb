{
 "cells": [
  {
   "cell_type": "code",
   "execution_count": 164,
   "metadata": {
    "collapsed": true
   },
   "outputs": [],
   "source": [
    "from IPython.display import HTML"
   ]
  },
  {
   "cell_type": "code",
   "execution_count": 165,
   "metadata": {},
   "outputs": [
    {
     "data": {
      "text/html": [
       "<script>\n",
       "code_show=true; \n",
       "function code_toggle() {\n",
       " if (code_show){\n",
       " $('div.input').hide();\n",
       " } else {\n",
       " $('div.input').show();\n",
       " }\n",
       " code_show = !code_show\n",
       "} \n",
       "$( document ).ready(code_toggle);\n",
       "</script>\n",
       "The raw code for this IPython notebook is by default hidden for easier reading.\n",
       "To toggle on/off the raw code, click <a href=\"javascript:code_toggle()\">here</a>."
      ],
      "text/plain": [
       "<IPython.core.display.HTML object>"
      ]
     },
     "execution_count": 165,
     "metadata": {},
     "output_type": "execute_result"
    }
   ],
   "source": [
    "HTML('''<script>\n",
    "code_show=true; \n",
    "function code_toggle() {\n",
    " if (code_show){\n",
    " $('div.input').hide();\n",
    " } else {\n",
    " $('div.input').show();\n",
    " }\n",
    " code_show = !code_show\n",
    "} \n",
    "$( document ).ready(code_toggle);\n",
    "</script>\n",
    "The raw code for this IPython notebook is by default hidden for easier reading.\n",
    "To toggle on/off the raw code, click <a href=\"javascript:code_toggle()\">here</a>.''')"
   ]
  },
  {
   "cell_type": "markdown",
   "metadata": {},
   "source": [
    "## Identify Fraud From Enron Email\n",
    "### Project Overview\n",
    "\n",
    "#### Goal\n",
    "Using machine learning skills to build an algorithm to identify Enron Employees who may have committed fraud based on the public Enron financial and email dataset."
   ]
  },
  {
   "cell_type": "code",
   "execution_count": 3,
   "metadata": {},
   "outputs": [],
   "source": [
    "import sys\n",
    "import pickle\n",
    "import pprint\n",
    "import matplotlib.pyplot as plt\n",
    "import numpy as np\n",
    "import pandas as pd\n",
    "from scipy import stats\n",
    "import seaborn as sns\n",
    "\n",
    "sys.path.append(\"./tools/\")\n",
    "import tester\n",
    "from feature_format import featureFormat, targetFeatureSplit\n",
    "from tester import dump_classifier_and_data\n",
    "import warnings\n",
    "warnings.filterwarnings('ignore')"
   ]
  },
  {
   "cell_type": "code",
   "execution_count": 4,
   "metadata": {
    "collapsed": true
   },
   "outputs": [],
   "source": [
    "%matplotlib inline"
   ]
  },
  {
   "cell_type": "code",
   "execution_count": 66,
   "metadata": {
    "collapsed": true
   },
   "outputs": [],
   "source": [
    "#Load the disctionary containing the dataset\n",
    "with open(\"final_project_dataset.pkl\", \"r\") as data_file:\n",
    "    data_dict = pickle.load(data_file)"
   ]
  },
  {
   "cell_type": "markdown",
   "metadata": {},
   "source": [
    "## Task 1 Explore the dataset\n",
    "#### Overview of the dataset"
   ]
  },
  {
   "cell_type": "code",
   "execution_count": 6,
   "metadata": {},
   "outputs": [
    {
     "name": "stdout",
     "output_type": "stream",
     "text": [
      "total number of people in the dataset:  146\n",
      "Total features in the dataset: \n",
      "['salary', 'to_messages', 'deferral_payments', 'total_payments', 'exercised_stock_options', 'bonus', 'restricted_stock', 'shared_receipt_with_poi', 'restricted_stock_deferred', 'total_stock_value', 'expenses', 'loan_advances', 'from_messages', 'other', 'from_this_person_to_poi', 'poi', 'director_fees', 'deferred_income', 'long_term_incentive', 'email_address', 'from_poi_to_this_person']\n",
      "poi is the label, the number of all other featuers in the dataset is:  20\n",
      "An example entry 'ALLEN PHILLIP K' in the dataset: \n",
      "{'salary': 201955, 'to_messages': 2902, 'deferral_payments': 2869717, 'total_payments': 4484442, 'exercised_stock_options': 1729541, 'bonus': 4175000, 'restricted_stock': 126027, 'shared_receipt_with_poi': 1407, 'restricted_stock_deferred': -126027, 'total_stock_value': 1729541, 'expenses': 13868, 'loan_advances': 'NaN', 'from_messages': 2195, 'other': 152, 'from_this_person_to_poi': 65, 'poi': False, 'director_fees': 'NaN', 'deferred_income': -3081055, 'long_term_incentive': 304805, 'email_address': 'phillip.allen@enron.com', 'from_poi_to_this_person': 47}\n",
      "The number of poi: 18\n",
      "The percentage of poi is 12.33%.\n"
     ]
    }
   ],
   "source": [
    "def exploration_data(data_dict):\n",
    "    total_people = len(data_dict)\n",
    "    print \"total number of people in the dataset: \", total_people\n",
    "    \n",
    "    number_features = len(data_dict[\"ALLEN PHILLIP K\"])\n",
    "    total_features = data_dict[\"ALLEN PHILLIP K\"].keys()\n",
    "    print \"Total features in the dataset: \"\n",
    "    print total_features\n",
    "    print \"poi is the label, the number of all other featuers in the dataset is: \", number_features-1\n",
    "    print \"An example entry 'ALLEN PHILLIP K' in the dataset: \"\n",
    "    print data_dict[\"ALLEN PHILLIP K\"]\n",
    "    \n",
    "    #check for the poi\n",
    "    total_poi = 0\n",
    "    for k in data_dict:\n",
    "        if data_dict[k][\"poi\"] == True:\n",
    "            total_poi+=1\n",
    "    print \"The number of poi:\", total_poi\n",
    "    print \"The percentage of poi is {:0.2f}%.\".format(100.00*total_poi/total_people)\n",
    "    \n",
    "exploration_data(data_dict)"
   ]
  },
  {
   "cell_type": "markdown",
   "metadata": {},
   "source": [
    "## Task 2 Remove outliers\n",
    "#### Outliers"
   ]
  },
  {
   "cell_type": "code",
   "execution_count": 67,
   "metadata": {},
   "outputs": [
    {
     "data": {
      "image/png": "[encoded data removed]",
      "text/plain": [
       "<matplotlib.figure.Figure at 0xdd33a58>"
      ]
     },
     "metadata": {},
     "output_type": "display_data"
    }
   ],
   "source": [
    "#check for outliers in dataset and remove these outliers\n",
    "\n",
    "def plot_data(data_dict,f1,f2):\n",
    "    features = [f1,f2]\n",
    "    data = featureFormat(data_dict,features)\n",
    "    \n",
    "    #data visulization\n",
    "    for point in data:\n",
    "        arr1 = point[0]\n",
    "        arr2 = point[1]\n",
    "        plt.scatter(arr1,arr2)\n",
    "    \n",
    "    plt.xlabel(f1)\n",
    "    plt.ylabel(f2)\n",
    "    \n",
    "    plt.show()\n",
    "       \n",
    "plot_data(data_dict,\"salary\",\"bonus\")"
   ]
  },
  {
   "cell_type": "markdown",
   "metadata": {},
   "source": [
    "**After visualizating the \"Salary\" and \"Bonus\", one huge number popped out. Checked the keys of the dataset, I found one key \"Total\" with big number of \"salary\" and \"bonus\", is the sum of all other person.This is an outlier.  **\n",
    "  \n",
    "**Remove this outlier \"Total\"**"
   ]
  },
  {
   "cell_type": "code",
   "execution_count": 68,
   "metadata": {},
   "outputs": [
    {
     "data": {
      "text/plain": [
       "{'bonus': 97343619,\n",
       " 'deferral_payments': 32083396,\n",
       " 'deferred_income': -27992891,\n",
       " 'director_fees': 1398517,\n",
       " 'email_address': 'NaN',\n",
       " 'exercised_stock_options': 311764000,\n",
       " 'expenses': 5235198,\n",
       " 'from_messages': 'NaN',\n",
       " 'from_poi_to_this_person': 'NaN',\n",
       " 'from_this_person_to_poi': 'NaN',\n",
       " 'loan_advances': 83925000,\n",
       " 'long_term_incentive': 48521928,\n",
       " 'other': 42667589,\n",
       " 'poi': False,\n",
       " 'restricted_stock': 130322299,\n",
       " 'restricted_stock_deferred': -7576788,\n",
       " 'salary': 26704229,\n",
       " 'shared_receipt_with_poi': 'NaN',\n",
       " 'to_messages': 'NaN',\n",
       " 'total_payments': 309886585,\n",
       " 'total_stock_value': 434509511}"
      ]
     },
     "execution_count": 68,
     "metadata": {},
     "output_type": "execute_result"
    }
   ],
   "source": [
    "#Check the keys and the outlier could be the total key\n",
    "#Total is the sum of all salary and bonus\n",
    "#pop will change the dictonary\n",
    "data_dict.pop(\"TOTAL\",0)"
   ]
  },
  {
   "cell_type": "markdown",
   "metadata": {},
   "source": [
    "**Plot the dataset after outlier removal, although there are four other big numbers in the plot, there is no extreme plot left.**"
   ]
  },
  {
   "cell_type": "code",
   "execution_count": 69,
   "metadata": {},
   "outputs": [
    {
     "data": {
      "image/png": "[encoded data removed]",
      "text/plain": [
       "<matplotlib.figure.Figure at 0xdbf72b0>"
      ]
     },
     "metadata": {},
     "output_type": "display_data"
    }
   ],
   "source": [
    "#check the dataset after outlier removal\n",
    "plot_data(data_dict,\"salary\",\"bonus\")"
   ]
  },
  {
   "cell_type": "markdown",
   "metadata": {},
   "source": [
    "**Explore keys further to check if there are other unapproporate data points in dataset **"
   ]
  },
  {
   "cell_type": "code",
   "execution_count": 70,
   "metadata": {},
   "outputs": [
    {
     "name": "stdout",
     "output_type": "stream",
     "text": [
      "['ALLEN PHILLIP K',\n",
      " 'BADUM JAMES P',\n",
      " 'BANNANTINE JAMES M',\n",
      " 'BAXTER JOHN C',\n",
      " 'BAY FRANKLIN R',\n",
      " 'BAZELIDES PHILIP J',\n",
      " 'BECK SALLY W',\n",
      " 'BELDEN TIMOTHY N',\n",
      " 'BELFER ROBERT',\n",
      " 'BERBERIAN DAVID',\n",
      " 'BERGSIEKER RICHARD P',\n",
      " 'BHATNAGAR SANJAY',\n",
      " 'BIBI PHILIPPE A',\n",
      " 'BLACHMAN JEREMY M',\n",
      " 'BLAKE JR. NORMAN P',\n",
      " 'BOWEN JR RAYMOND M',\n",
      " 'BROWN MICHAEL',\n",
      " 'BUCHANAN HAROLD G',\n",
      " 'BUTTS ROBERT H',\n",
      " 'BUY RICHARD B',\n",
      " 'CALGER CHRISTOPHER F',\n",
      " 'CARTER REBECCA C',\n",
      " 'CAUSEY RICHARD A',\n",
      " 'CHAN RONNIE',\n",
      " 'CHRISTODOULOU DIOMEDES',\n",
      " 'CLINE KENNETH W',\n",
      " 'COLWELL WESLEY',\n",
      " 'CORDES WILLIAM R',\n",
      " 'COX DAVID',\n",
      " 'CUMBERLAND MICHAEL S',\n",
      " 'DEFFNER JOSEPH M',\n",
      " 'DELAINEY DAVID W',\n",
      " 'DERRICK JR. JAMES V',\n",
      " 'DETMERING TIMOTHY J',\n",
      " 'DIETRICH JANET R',\n",
      " 'DIMICHELE RICHARD G',\n",
      " 'DODSON KEITH',\n",
      " 'DONAHUE JR JEFFREY M',\n",
      " 'DUNCAN JOHN H',\n",
      " 'DURAN WILLIAM D',\n",
      " 'ECHOLS JOHN B',\n",
      " 'ELLIOTT STEVEN',\n",
      " 'FALLON JAMES B',\n",
      " 'FASTOW ANDREW S',\n",
      " 'FITZGERALD JAY L',\n",
      " 'FOWLER PEGGY',\n",
      " 'FOY JOE',\n",
      " 'FREVERT MARK A',\n",
      " 'FUGH JOHN L',\n",
      " 'GAHN ROBERT S',\n",
      " 'GARLAND C KEVIN',\n",
      " 'GATHMANN WILLIAM D',\n",
      " 'GIBBS DANA R',\n",
      " 'GILLIS JOHN',\n",
      " 'GLISAN JR BEN F',\n",
      " 'GOLD JOSEPH',\n",
      " 'GRAMM WENDY L',\n",
      " 'GRAY RODNEY',\n",
      " 'HAEDICKE MARK E',\n",
      " 'HANNON KEVIN P',\n",
      " 'HAUG DAVID L',\n",
      " 'HAYES ROBERT E',\n",
      " 'HAYSLETT RODERICK J',\n",
      " 'HERMANN ROBERT J',\n",
      " 'HICKERSON GARY J',\n",
      " 'HIRKO JOSEPH',\n",
      " 'HORTON STANLEY C',\n",
      " 'HUGHES JAMES A',\n",
      " 'HUMPHREY GENE E',\n",
      " 'IZZO LAWRENCE L',\n",
      " 'JACKSON CHARLENE R',\n",
      " 'JAEDICKE ROBERT',\n",
      " 'KAMINSKI WINCENTY J',\n",
      " 'KEAN STEVEN J',\n",
      " 'KISHKILL JOSEPH G',\n",
      " 'KITCHEN LOUISE',\n",
      " 'KOENIG MARK E',\n",
      " 'KOPPER MICHAEL J',\n",
      " 'LAVORATO JOHN J',\n",
      " 'LAY KENNETH L',\n",
      " 'LEFF DANIEL P',\n",
      " 'LEMAISTRE CHARLES',\n",
      " 'LEWIS RICHARD',\n",
      " 'LINDHOLM TOD A',\n",
      " 'LOCKHART EUGENE E',\n",
      " 'LOWRY CHARLES P',\n",
      " 'MARTIN AMANDA K',\n",
      " 'MCCARTY DANNY J',\n",
      " 'MCCLELLAN GEORGE',\n",
      " 'MCCONNELL MICHAEL S',\n",
      " 'MCDONALD REBECCA',\n",
      " 'MCMAHON JEFFREY',\n",
      " 'MENDELSOHN JOHN',\n",
      " 'METTS MARK',\n",
      " 'MEYER JEROME J',\n",
      " 'MEYER ROCKFORD G',\n",
      " 'MORAN MICHAEL P',\n",
      " 'MORDAUNT KRISTINA M',\n",
      " 'MULLER MARK S',\n",
      " 'MURRAY JULIA H',\n",
      " 'NOLES JAMES L',\n",
      " 'OLSON CINDY K',\n",
      " 'OVERDYKE JR JERE C',\n",
      " 'PAI LOU L',\n",
      " 'PEREIRA PAULO V. FERRAZ',\n",
      " 'PICKERING MARK R',\n",
      " 'PIPER GREGORY F',\n",
      " 'PIRO JIM',\n",
      " 'POWERS WILLIAM',\n",
      " 'PRENTICE JAMES',\n",
      " 'REDMOND BRIAN L',\n",
      " 'REYNOLDS LAWRENCE',\n",
      " 'RICE KENNETH D',\n",
      " 'RIEKER PAULA H',\n",
      " 'SAVAGE FRANK',\n",
      " 'SCRIMSHAW MATTHEW',\n",
      " 'SHANKMAN JEFFREY A',\n",
      " 'SHAPIRO RICHARD S',\n",
      " 'SHARP VICTORIA T',\n",
      " 'SHELBY REX',\n",
      " 'SHERRICK JEFFREY B',\n",
      " 'SHERRIFF JOHN R',\n",
      " 'SKILLING JEFFREY K',\n",
      " 'STABLER FRANK',\n",
      " 'SULLIVAN-SHAKLOVITZ COLLEEN',\n",
      " 'SUNDE MARTIN',\n",
      " 'TAYLOR MITCHELL S',\n",
      " 'THE TRAVEL AGENCY IN THE PARK',\n",
      " 'THORN TERENCE H',\n",
      " 'TILNEY ELIZABETH A',\n",
      " 'UMANOFF ADAM S',\n",
      " 'URQUHART JOHN A',\n",
      " 'WAKEHAM JOHN',\n",
      " 'WALLS JR ROBERT H',\n",
      " 'WALTERS GARETH W',\n",
      " 'WASAFF GEORGE',\n",
      " 'WESTFAHL RICHARD K',\n",
      " 'WHALEY DAVID A',\n",
      " 'WHALLEY LAWRENCE G',\n",
      " 'WHITE JR THOMAS E',\n",
      " 'WINOKUR JR. HERBERT S',\n",
      " 'WODRASKA JOHN',\n",
      " 'WROBEL BRUCE',\n",
      " 'YEAGER F SCOTT',\n",
      " 'YEAP SOON']\n"
     ]
    }
   ],
   "source": [
    "#explore other keys\n",
    "keys = []\n",
    "for k in data_dict:\n",
    "    keys.append(k)\n",
    "\n",
    "pprint.pprint(sorted(keys))\n"
   ]
  },
  {
   "cell_type": "markdown",
   "metadata": {},
   "source": [
    "**Easily find \"THE TRAVEL AGENCY IN THE PARK\" is not a name  \n",
    "Remove this confusing key**"
   ]
  },
  {
   "cell_type": "code",
   "execution_count": 71,
   "metadata": {},
   "outputs": [
    {
     "data": {
      "text/plain": [
       "{'bonus': 'NaN',\n",
       " 'deferral_payments': 'NaN',\n",
       " 'deferred_income': 'NaN',\n",
       " 'director_fees': 'NaN',\n",
       " 'email_address': 'NaN',\n",
       " 'exercised_stock_options': 'NaN',\n",
       " 'expenses': 'NaN',\n",
       " 'from_messages': 'NaN',\n",
       " 'from_poi_to_this_person': 'NaN',\n",
       " 'from_this_person_to_poi': 'NaN',\n",
       " 'loan_advances': 'NaN',\n",
       " 'long_term_incentive': 'NaN',\n",
       " 'other': 362096,\n",
       " 'poi': False,\n",
       " 'restricted_stock': 'NaN',\n",
       " 'restricted_stock_deferred': 'NaN',\n",
       " 'salary': 'NaN',\n",
       " 'shared_receipt_with_poi': 'NaN',\n",
       " 'to_messages': 'NaN',\n",
       " 'total_payments': 362096,\n",
       " 'total_stock_value': 'NaN'}"
      ]
     },
     "execution_count": 71,
     "metadata": {},
     "output_type": "execute_result"
    }
   ],
   "source": [
    "#remove outlier\n",
    "data_dict.pop('THE TRAVEL AGENCY IN THE PARK',0)"
   ]
  },
  {
   "cell_type": "markdown",
   "metadata": {},
   "source": [
    "#### Check the dataset after outliers removal"
   ]
  },
  {
   "cell_type": "code",
   "execution_count": 72,
   "metadata": {},
   "outputs": [
    {
     "name": "stdout",
     "output_type": "stream",
     "text": [
      "total number of people in the dataset:  144\n",
      "Total features in the dataset: \n",
      "['salary', 'to_messages', 'deferral_payments', 'total_payments', 'exercised_stock_options', 'bonus', 'restricted_stock', 'shared_receipt_with_poi', 'restricted_stock_deferred', 'total_stock_value', 'expenses', 'loan_advances', 'from_messages', 'other', 'from_this_person_to_poi', 'poi', 'director_fees', 'deferred_income', 'long_term_incentive', 'email_address', 'from_poi_to_this_person']\n",
      "poi is the label, the number of all other featuers in the dataset is:  20\n",
      "An example entry 'ALLEN PHILLIP K' in the dataset: \n",
      "{'salary': 201955, 'to_messages': 2902, 'deferral_payments': 2869717, 'total_payments': 4484442, 'exercised_stock_options': 1729541, 'bonus': 4175000, 'restricted_stock': 126027, 'shared_receipt_with_poi': 1407, 'restricted_stock_deferred': -126027, 'total_stock_value': 1729541, 'expenses': 13868, 'loan_advances': 'NaN', 'from_messages': 2195, 'other': 152, 'from_this_person_to_poi': 65, 'poi': False, 'director_fees': 'NaN', 'deferred_income': -3081055, 'long_term_incentive': 304805, 'email_address': 'phillip.allen@enron.com', 'from_poi_to_this_person': 47}\n",
      "The number of poi: 18\n",
      "The percentage of poi is 12.50%.\n"
     ]
    }
   ],
   "source": [
    "#check the dataset after outliers removal\n",
    "exploration_data(data_dict)"
   ]
  },
  {
   "cell_type": "markdown",
   "metadata": {},
   "source": [
    "## Task 3 Create new features\n",
    "#### Among these features, \"email_address\" is the feature related to people's name, so I excluded it from dataset.\n",
    "#### The email communication from/to POI is directly pointing to POIs, which should be the important features, so I created two new features \"from_poi_to_this_person_ratio\" and \"from_this_person_to_poi_ratio\" based on these features\n",
    "**In which:  \n",
    "from_poi_to_this_person_ratio = from_poi_to_this_person/to_message  \n",
    "from_this_person_to_poi_ratio = from_this_person_to_poi/from_message** "
   ]
  },
  {
   "cell_type": "code",
   "execution_count": 73,
   "metadata": {
    "collapsed": true
   },
   "outputs": [],
   "source": [
    "#feature engineering\n",
    "#remove feature \"email_address\"\n",
    "#create new features \"from_poi_to_this_person_ratio\" and \"from_this_person_to_poi_ratio\"\n",
    "for f in data_dict:\n",
    "    if data_dict[f][\"from_poi_to_this_person\"]!=\"NaN\":\n",
    "        data_dict[f][\"from_poi_to_this_person_ratio\"] = 1.0 * data_dict[f][\"from_poi_to_this_person\"]/data_dict[f][\"to_messages\"]\n",
    "    else:\n",
    "        data_dict[f][\"from_poi_to_this_person_ratio\"] = \"NaN\"\n",
    "        \n",
    "for f in data_dict:\n",
    "    if data_dict[f][\"from_this_person_to_poi\"]!=\"NaN\":\n",
    "        data_dict[f][\"from_this_person_to_poi_ratio\"] = 1.0 * data_dict[f][\"from_this_person_to_poi\"]/data_dict[f][\"from_messages\"]\n",
    "    else:\n",
    "        data_dict[f][\"from_this_person_to_poi_ratio\"] = \"NaN\"   \n",
    "        "
   ]
  },
  {
   "cell_type": "code",
   "execution_count": 74,
   "metadata": {
    "collapsed": true
   },
   "outputs": [],
   "source": [
    "#make the featurs_list\n",
    "features_list  = ['poi','total_payments','total_stock_value',\n",
    "                  'salary', 'deferral_payments', 'loan_advances', 'bonus', 'restricted_stock_deferred', 'deferred_income', \n",
    "                  'expenses', 'exercised_stock_options', 'other', 'long_term_incentive', 'restricted_stock', \n",
    "                  'director_fees','to_messages', 'from_poi_to_this_person', 'from_messages', 'from_this_person_to_poi', \n",
    "                  'shared_receipt_with_poi','from_poi_to_this_person_ratio','from_this_person_to_poi_ratio']"
   ]
  },
  {
   "cell_type": "markdown",
   "metadata": {},
   "source": [
    "## Task 4 Impute missing and incorrect values\n",
    "#### To explore the dataset further, I transformed the dictionary into a dataframe"
   ]
  },
  {
   "cell_type": "code",
   "execution_count": 75,
   "metadata": {},
   "outputs": [
    {
     "name": "stdout",
     "output_type": "stream",
     "text": [
      "This dataset has 144 rows and 22 columns\n"
     ]
    },
    {
     "data": {
      "text/html": [
       "<div>\n",
       "<style>\n",
       "    .dataframe thead tr:only-child th {\n",
       "        text-align: right;\n",
       "    }\n",
       "\n",
       "    .dataframe thead th {\n",
       "        text-align: left;\n",
       "    }\n",
       "\n",
       "    .dataframe tbody tr th {\n",
       "        vertical-align: top;\n",
       "    }\n",
       "</style>\n",
       "<table border=\"1\" class=\"dataframe\">\n",
       "  <thead>\n",
       "    <tr style=\"text-align: right;\">\n",
       "      <th></th>\n",
       "      <th>poi</th>\n",
       "      <th>total_payments</th>\n",
       "      <th>total_stock_value</th>\n",
       "      <th>salary</th>\n",
       "      <th>deferral_payments</th>\n",
       "      <th>loan_advances</th>\n",
       "      <th>bonus</th>\n",
       "      <th>restricted_stock_deferred</th>\n",
       "      <th>deferred_income</th>\n",
       "      <th>expenses</th>\n",
       "      <th>...</th>\n",
       "      <th>long_term_incentive</th>\n",
       "      <th>restricted_stock</th>\n",
       "      <th>director_fees</th>\n",
       "      <th>to_messages</th>\n",
       "      <th>from_poi_to_this_person</th>\n",
       "      <th>from_messages</th>\n",
       "      <th>from_this_person_to_poi</th>\n",
       "      <th>shared_receipt_with_poi</th>\n",
       "      <th>from_poi_to_this_person_ratio</th>\n",
       "      <th>from_this_person_to_poi_ratio</th>\n",
       "    </tr>\n",
       "  </thead>\n",
       "  <tbody>\n",
       "    <tr>\n",
       "      <th>ALLEN PHILLIP K</th>\n",
       "      <td>False</td>\n",
       "      <td>4484442.0</td>\n",
       "      <td>1729541.0</td>\n",
       "      <td>201955.0</td>\n",
       "      <td>2869717.0</td>\n",
       "      <td>NaN</td>\n",
       "      <td>4175000.0</td>\n",
       "      <td>-126027.0</td>\n",
       "      <td>-3081055.0</td>\n",
       "      <td>13868.0</td>\n",
       "      <td>...</td>\n",
       "      <td>304805.0</td>\n",
       "      <td>126027.0</td>\n",
       "      <td>NaN</td>\n",
       "      <td>2902.0</td>\n",
       "      <td>47.0</td>\n",
       "      <td>2195.0</td>\n",
       "      <td>65.0</td>\n",
       "      <td>1407.0</td>\n",
       "      <td>0.016196</td>\n",
       "      <td>0.029613</td>\n",
       "    </tr>\n",
       "    <tr>\n",
       "      <th>BADUM JAMES P</th>\n",
       "      <td>False</td>\n",
       "      <td>182466.0</td>\n",
       "      <td>257817.0</td>\n",
       "      <td>NaN</td>\n",
       "      <td>178980.0</td>\n",
       "      <td>NaN</td>\n",
       "      <td>NaN</td>\n",
       "      <td>NaN</td>\n",
       "      <td>NaN</td>\n",
       "      <td>3486.0</td>\n",
       "      <td>...</td>\n",
       "      <td>NaN</td>\n",
       "      <td>NaN</td>\n",
       "      <td>NaN</td>\n",
       "      <td>NaN</td>\n",
       "      <td>NaN</td>\n",
       "      <td>NaN</td>\n",
       "      <td>NaN</td>\n",
       "      <td>NaN</td>\n",
       "      <td>NaN</td>\n",
       "      <td>NaN</td>\n",
       "    </tr>\n",
       "    <tr>\n",
       "      <th>BANNANTINE JAMES M</th>\n",
       "      <td>False</td>\n",
       "      <td>916197.0</td>\n",
       "      <td>5243487.0</td>\n",
       "      <td>477.0</td>\n",
       "      <td>NaN</td>\n",
       "      <td>NaN</td>\n",
       "      <td>NaN</td>\n",
       "      <td>-560222.0</td>\n",
       "      <td>-5104.0</td>\n",
       "      <td>56301.0</td>\n",
       "      <td>...</td>\n",
       "      <td>NaN</td>\n",
       "      <td>1757552.0</td>\n",
       "      <td>NaN</td>\n",
       "      <td>566.0</td>\n",
       "      <td>39.0</td>\n",
       "      <td>29.0</td>\n",
       "      <td>0.0</td>\n",
       "      <td>465.0</td>\n",
       "      <td>0.068905</td>\n",
       "      <td>0.000000</td>\n",
       "    </tr>\n",
       "    <tr>\n",
       "      <th>BAXTER JOHN C</th>\n",
       "      <td>False</td>\n",
       "      <td>5634343.0</td>\n",
       "      <td>10623258.0</td>\n",
       "      <td>267102.0</td>\n",
       "      <td>1295738.0</td>\n",
       "      <td>NaN</td>\n",
       "      <td>1200000.0</td>\n",
       "      <td>NaN</td>\n",
       "      <td>-1386055.0</td>\n",
       "      <td>11200.0</td>\n",
       "      <td>...</td>\n",
       "      <td>1586055.0</td>\n",
       "      <td>3942714.0</td>\n",
       "      <td>NaN</td>\n",
       "      <td>NaN</td>\n",
       "      <td>NaN</td>\n",
       "      <td>NaN</td>\n",
       "      <td>NaN</td>\n",
       "      <td>NaN</td>\n",
       "      <td>NaN</td>\n",
       "      <td>NaN</td>\n",
       "    </tr>\n",
       "    <tr>\n",
       "      <th>BAY FRANKLIN R</th>\n",
       "      <td>False</td>\n",
       "      <td>827696.0</td>\n",
       "      <td>63014.0</td>\n",
       "      <td>239671.0</td>\n",
       "      <td>260455.0</td>\n",
       "      <td>NaN</td>\n",
       "      <td>400000.0</td>\n",
       "      <td>-82782.0</td>\n",
       "      <td>-201641.0</td>\n",
       "      <td>129142.0</td>\n",
       "      <td>...</td>\n",
       "      <td>NaN</td>\n",
       "      <td>145796.0</td>\n",
       "      <td>NaN</td>\n",
       "      <td>NaN</td>\n",
       "      <td>NaN</td>\n",
       "      <td>NaN</td>\n",
       "      <td>NaN</td>\n",
       "      <td>NaN</td>\n",
       "      <td>NaN</td>\n",
       "      <td>NaN</td>\n",
       "    </tr>\n",
       "  </tbody>\n",
       "</table>\n",
       "<p>5 rows × 22 columns</p>\n",
       "</div>"
      ],
      "text/plain": [
       "                      poi  total_payments  total_stock_value    salary  \\\n",
       "ALLEN PHILLIP K     False       4484442.0          1729541.0  201955.0   \n",
       "BADUM JAMES P       False        182466.0           257817.0       NaN   \n",
       "BANNANTINE JAMES M  False        916197.0          5243487.0     477.0   \n",
       "BAXTER JOHN C       False       5634343.0         10623258.0  267102.0   \n",
       "BAY FRANKLIN R      False        827696.0            63014.0  239671.0   \n",
       "\n",
       "                    deferral_payments  loan_advances      bonus  \\\n",
       "ALLEN PHILLIP K             2869717.0            NaN  4175000.0   \n",
       "BADUM JAMES P                178980.0            NaN        NaN   \n",
       "BANNANTINE JAMES M                NaN            NaN        NaN   \n",
       "BAXTER JOHN C               1295738.0            NaN  1200000.0   \n",
       "BAY FRANKLIN R               260455.0            NaN   400000.0   \n",
       "\n",
       "                    restricted_stock_deferred  deferred_income  expenses  \\\n",
       "ALLEN PHILLIP K                     -126027.0       -3081055.0   13868.0   \n",
       "BADUM JAMES P                             NaN              NaN    3486.0   \n",
       "BANNANTINE JAMES M                  -560222.0          -5104.0   56301.0   \n",
       "BAXTER JOHN C                             NaN       -1386055.0   11200.0   \n",
       "BAY FRANKLIN R                       -82782.0        -201641.0  129142.0   \n",
       "\n",
       "                                ...                long_term_incentive  \\\n",
       "ALLEN PHILLIP K                 ...                           304805.0   \n",
       "BADUM JAMES P                   ...                                NaN   \n",
       "BANNANTINE JAMES M              ...                                NaN   \n",
       "BAXTER JOHN C                   ...                          1586055.0   \n",
       "BAY FRANKLIN R                  ...                                NaN   \n",
       "\n",
       "                    restricted_stock  director_fees  to_messages  \\\n",
       "ALLEN PHILLIP K             126027.0            NaN       2902.0   \n",
       "BADUM JAMES P                    NaN            NaN          NaN   \n",
       "BANNANTINE JAMES M         1757552.0            NaN        566.0   \n",
       "BAXTER JOHN C              3942714.0            NaN          NaN   \n",
       "BAY FRANKLIN R              145796.0            NaN          NaN   \n",
       "\n",
       "                    from_poi_to_this_person  from_messages  \\\n",
       "ALLEN PHILLIP K                        47.0         2195.0   \n",
       "BADUM JAMES P                           NaN            NaN   \n",
       "BANNANTINE JAMES M                     39.0           29.0   \n",
       "BAXTER JOHN C                           NaN            NaN   \n",
       "BAY FRANKLIN R                          NaN            NaN   \n",
       "\n",
       "                    from_this_person_to_poi  shared_receipt_with_poi  \\\n",
       "ALLEN PHILLIP K                        65.0                   1407.0   \n",
       "BADUM JAMES P                           NaN                      NaN   \n",
       "BANNANTINE JAMES M                      0.0                    465.0   \n",
       "BAXTER JOHN C                           NaN                      NaN   \n",
       "BAY FRANKLIN R                          NaN                      NaN   \n",
       "\n",
       "                    from_poi_to_this_person_ratio  \\\n",
       "ALLEN PHILLIP K                          0.016196   \n",
       "BADUM JAMES P                                 NaN   \n",
       "BANNANTINE JAMES M                       0.068905   \n",
       "BAXTER JOHN C                                 NaN   \n",
       "BAY FRANKLIN R                                NaN   \n",
       "\n",
       "                    from_this_person_to_poi_ratio  \n",
       "ALLEN PHILLIP K                          0.029613  \n",
       "BADUM JAMES P                                 NaN  \n",
       "BANNANTINE JAMES M                       0.000000  \n",
       "BAXTER JOHN C                                 NaN  \n",
       "BAY FRANKLIN R                                NaN  \n",
       "\n",
       "[5 rows x 22 columns]"
      ]
     },
     "execution_count": 75,
     "metadata": {},
     "output_type": "execute_result"
    }
   ],
   "source": [
    "###df\n",
    "df = pd.DataFrame.from_dict(data_dict,orient=\"index\")\n",
    "df = df.replace(\"NaN\",np.nan)\n",
    "df = df[features_list]\n",
    "print \"This dataset has {} rows and {} columns\".format(df.shape[0],df.shape[1])\n",
    "df.head()"
   ]
  },
  {
   "cell_type": "markdown",
   "metadata": {},
   "source": [
    "**Checked the null value among the dataset  \n",
    "Caculated the total null values within each feature**"
   ]
  },
  {
   "cell_type": "code",
   "execution_count": 76,
   "metadata": {},
   "outputs": [
    {
     "data": {
      "text/plain": [
       "poi                                0\n",
       "total_payments                    21\n",
       "total_stock_value                 19\n",
       "salary                            50\n",
       "deferral_payments                106\n",
       "loan_advances                    141\n",
       "bonus                             63\n",
       "restricted_stock_deferred        127\n",
       "deferred_income                   96\n",
       "expenses                          50\n",
       "exercised_stock_options           43\n",
       "other                             53\n",
       "long_term_incentive               79\n",
       "restricted_stock                  35\n",
       "director_fees                    128\n",
       "to_messages                       58\n",
       "from_poi_to_this_person           58\n",
       "from_messages                     58\n",
       "from_this_person_to_poi           58\n",
       "shared_receipt_with_poi           58\n",
       "from_poi_to_this_person_ratio     58\n",
       "from_this_person_to_poi_ratio     58\n",
       "dtype: int64"
      ]
     },
     "execution_count": 76,
     "metadata": {},
     "output_type": "execute_result"
    }
   ],
   "source": [
    "#impute missing values\n",
    "df.isnull().sum()"
   ]
  },
  {
   "cell_type": "code",
   "execution_count": 18,
   "metadata": {},
   "outputs": [],
   "source": [
    "#drop columns with more than 120 missing data points\n",
    "#cols = ['loan_advances','restricted_stock_deferred','director_fees']\n",
    "#df.drop(cols,axis = 1, inplace=True)"
   ]
  },
  {
   "cell_type": "code",
   "execution_count": 23,
   "metadata": {},
   "outputs": [
    {
     "data": {
      "text/html": [
       "<div>\n",
       "<style>\n",
       "    .dataframe thead tr:only-child th {\n",
       "        text-align: right;\n",
       "    }\n",
       "\n",
       "    .dataframe thead th {\n",
       "        text-align: left;\n",
       "    }\n",
       "\n",
       "    .dataframe tbody tr th {\n",
       "        vertical-align: top;\n",
       "    }\n",
       "</style>\n",
       "<table border=\"1\" class=\"dataframe\">\n",
       "  <thead>\n",
       "    <tr style=\"text-align: right;\">\n",
       "      <th></th>\n",
       "      <th>poi</th>\n",
       "      <th>total_payments</th>\n",
       "      <th>total_stock_value</th>\n",
       "      <th>salary</th>\n",
       "      <th>deferral_payments</th>\n",
       "      <th>bonus</th>\n",
       "      <th>deferred_income</th>\n",
       "      <th>expenses</th>\n",
       "      <th>exercised_stock_options</th>\n",
       "      <th>other</th>\n",
       "      <th>long_term_incentive</th>\n",
       "      <th>restricted_stock</th>\n",
       "      <th>to_messages</th>\n",
       "      <th>from_poi_to_this_person</th>\n",
       "      <th>from_messages</th>\n",
       "      <th>from_this_person_to_poi</th>\n",
       "      <th>shared_receipt_with_poi</th>\n",
       "      <th>from_poi_to_this_person_ratio</th>\n",
       "      <th>from_this_person_to_poi_ratio</th>\n",
       "    </tr>\n",
       "  </thead>\n",
       "  <tbody>\n",
       "    <tr>\n",
       "      <th>ALLEN PHILLIP K</th>\n",
       "      <td>False</td>\n",
       "      <td>4484442.0</td>\n",
       "      <td>1729541.0</td>\n",
       "      <td>201955.0</td>\n",
       "      <td>2869717.0</td>\n",
       "      <td>4175000.0</td>\n",
       "      <td>-3081055.0</td>\n",
       "      <td>13868.0</td>\n",
       "      <td>1729541.0</td>\n",
       "      <td>152.0</td>\n",
       "      <td>304805.0</td>\n",
       "      <td>126027.0</td>\n",
       "      <td>2902.0</td>\n",
       "      <td>47.0</td>\n",
       "      <td>2195.0</td>\n",
       "      <td>65.0</td>\n",
       "      <td>1407.0</td>\n",
       "      <td>0.016196</td>\n",
       "      <td>0.029613</td>\n",
       "    </tr>\n",
       "    <tr>\n",
       "      <th>BADUM JAMES P</th>\n",
       "      <td>False</td>\n",
       "      <td>182466.0</td>\n",
       "      <td>257817.0</td>\n",
       "      <td>NaN</td>\n",
       "      <td>178980.0</td>\n",
       "      <td>NaN</td>\n",
       "      <td>NaN</td>\n",
       "      <td>3486.0</td>\n",
       "      <td>257817.0</td>\n",
       "      <td>NaN</td>\n",
       "      <td>NaN</td>\n",
       "      <td>NaN</td>\n",
       "      <td>NaN</td>\n",
       "      <td>NaN</td>\n",
       "      <td>NaN</td>\n",
       "      <td>NaN</td>\n",
       "      <td>NaN</td>\n",
       "      <td>NaN</td>\n",
       "      <td>NaN</td>\n",
       "    </tr>\n",
       "    <tr>\n",
       "      <th>BANNANTINE JAMES M</th>\n",
       "      <td>False</td>\n",
       "      <td>916197.0</td>\n",
       "      <td>5243487.0</td>\n",
       "      <td>477.0</td>\n",
       "      <td>NaN</td>\n",
       "      <td>NaN</td>\n",
       "      <td>-5104.0</td>\n",
       "      <td>56301.0</td>\n",
       "      <td>4046157.0</td>\n",
       "      <td>864523.0</td>\n",
       "      <td>NaN</td>\n",
       "      <td>1757552.0</td>\n",
       "      <td>566.0</td>\n",
       "      <td>39.0</td>\n",
       "      <td>29.0</td>\n",
       "      <td>0.0</td>\n",
       "      <td>465.0</td>\n",
       "      <td>0.068905</td>\n",
       "      <td>0.000000</td>\n",
       "    </tr>\n",
       "    <tr>\n",
       "      <th>BAXTER JOHN C</th>\n",
       "      <td>False</td>\n",
       "      <td>5634343.0</td>\n",
       "      <td>10623258.0</td>\n",
       "      <td>267102.0</td>\n",
       "      <td>1295738.0</td>\n",
       "      <td>1200000.0</td>\n",
       "      <td>-1386055.0</td>\n",
       "      <td>11200.0</td>\n",
       "      <td>6680544.0</td>\n",
       "      <td>2660303.0</td>\n",
       "      <td>1586055.0</td>\n",
       "      <td>3942714.0</td>\n",
       "      <td>NaN</td>\n",
       "      <td>NaN</td>\n",
       "      <td>NaN</td>\n",
       "      <td>NaN</td>\n",
       "      <td>NaN</td>\n",
       "      <td>NaN</td>\n",
       "      <td>NaN</td>\n",
       "    </tr>\n",
       "    <tr>\n",
       "      <th>BAY FRANKLIN R</th>\n",
       "      <td>False</td>\n",
       "      <td>827696.0</td>\n",
       "      <td>63014.0</td>\n",
       "      <td>239671.0</td>\n",
       "      <td>260455.0</td>\n",
       "      <td>400000.0</td>\n",
       "      <td>-201641.0</td>\n",
       "      <td>129142.0</td>\n",
       "      <td>NaN</td>\n",
       "      <td>69.0</td>\n",
       "      <td>NaN</td>\n",
       "      <td>145796.0</td>\n",
       "      <td>NaN</td>\n",
       "      <td>NaN</td>\n",
       "      <td>NaN</td>\n",
       "      <td>NaN</td>\n",
       "      <td>NaN</td>\n",
       "      <td>NaN</td>\n",
       "      <td>NaN</td>\n",
       "    </tr>\n",
       "  </tbody>\n",
       "</table>\n",
       "</div>"
      ],
      "text/plain": [
       "                      poi  total_payments  total_stock_value    salary  \\\n",
       "ALLEN PHILLIP K     False       4484442.0          1729541.0  201955.0   \n",
       "BADUM JAMES P       False        182466.0           257817.0       NaN   \n",
       "BANNANTINE JAMES M  False        916197.0          5243487.0     477.0   \n",
       "BAXTER JOHN C       False       5634343.0         10623258.0  267102.0   \n",
       "BAY FRANKLIN R      False        827696.0            63014.0  239671.0   \n",
       "\n",
       "                    deferral_payments      bonus  deferred_income  expenses  \\\n",
       "ALLEN PHILLIP K             2869717.0  4175000.0       -3081055.0   13868.0   \n",
       "BADUM JAMES P                178980.0        NaN              NaN    3486.0   \n",
       "BANNANTINE JAMES M                NaN        NaN          -5104.0   56301.0   \n",
       "BAXTER JOHN C               1295738.0  1200000.0       -1386055.0   11200.0   \n",
       "BAY FRANKLIN R               260455.0   400000.0        -201641.0  129142.0   \n",
       "\n",
       "                    exercised_stock_options      other  long_term_incentive  \\\n",
       "ALLEN PHILLIP K                   1729541.0      152.0             304805.0   \n",
       "BADUM JAMES P                      257817.0        NaN                  NaN   \n",
       "BANNANTINE JAMES M                4046157.0   864523.0                  NaN   \n",
       "BAXTER JOHN C                     6680544.0  2660303.0            1586055.0   \n",
       "BAY FRANKLIN R                          NaN       69.0                  NaN   \n",
       "\n",
       "                    restricted_stock  to_messages  from_poi_to_this_person  \\\n",
       "ALLEN PHILLIP K             126027.0       2902.0                     47.0   \n",
       "BADUM JAMES P                    NaN          NaN                      NaN   \n",
       "BANNANTINE JAMES M         1757552.0        566.0                     39.0   \n",
       "BAXTER JOHN C              3942714.0          NaN                      NaN   \n",
       "BAY FRANKLIN R              145796.0          NaN                      NaN   \n",
       "\n",
       "                    from_messages  from_this_person_to_poi  \\\n",
       "ALLEN PHILLIP K            2195.0                     65.0   \n",
       "BADUM JAMES P                 NaN                      NaN   \n",
       "BANNANTINE JAMES M           29.0                      0.0   \n",
       "BAXTER JOHN C                 NaN                      NaN   \n",
       "BAY FRANKLIN R                NaN                      NaN   \n",
       "\n",
       "                    shared_receipt_with_poi  from_poi_to_this_person_ratio  \\\n",
       "ALLEN PHILLIP K                      1407.0                       0.016196   \n",
       "BADUM JAMES P                           NaN                            NaN   \n",
       "BANNANTINE JAMES M                    465.0                       0.068905   \n",
       "BAXTER JOHN C                           NaN                            NaN   \n",
       "BAY FRANKLIN R                          NaN                            NaN   \n",
       "\n",
       "                    from_this_person_to_poi_ratio  \n",
       "ALLEN PHILLIP K                          0.029613  \n",
       "BADUM JAMES P                                 NaN  \n",
       "BANNANTINE JAMES M                       0.000000  \n",
       "BAXTER JOHN C                                 NaN  \n",
       "BAY FRANKLIN R                                NaN  "
      ]
     },
     "execution_count": 23,
     "metadata": {},
     "output_type": "execute_result"
    }
   ],
   "source": [
    "df.head()"
   ]
  },
  {
   "cell_type": "markdown",
   "metadata": {},
   "source": [
    "**Fillfulled these null values within financial features by 0  \n",
    "Fillfulled these null values within contact features by the mean **"
   ]
  },
  {
   "cell_type": "code",
   "execution_count": 77,
   "metadata": {
    "collapsed": true
   },
   "outputs": [],
   "source": [
    "#impute null financial features by 0\n",
    "df.loc[:,\"total_payments\":\"director_fees\"] = df.loc[:,\"total_payments\":\"director_fees\"].fillna(0)\n",
    "\n",
    "#impute null contact features by the mean\n",
    "df.loc[:,\"to_messages\":\"from_this_person_to_poi_ratio\"] = df.loc[:,\"to_messages\":\"from_this_person_to_poi_ratio\"].apply(lambda x: x.fillna(x.mean()),axis = 0)\n",
    "\n",
    "#df.loc[:,\"to_messages\":\"from_this_person_to_poi_ratio\"] = df.loc[:,\"to_messages\":\"from_this_person_to_poi_ratio\"].fillna(0)"
   ]
  },
  {
   "cell_type": "markdown",
   "metadata": {},
   "source": [
    "**Check the dataset again after null imputation **"
   ]
  },
  {
   "cell_type": "code",
   "execution_count": 78,
   "metadata": {},
   "outputs": [
    {
     "data": {
      "text/plain": [
       "poi                              0\n",
       "total_payments                   0\n",
       "total_stock_value                0\n",
       "salary                           0\n",
       "deferral_payments                0\n",
       "loan_advances                    0\n",
       "bonus                            0\n",
       "restricted_stock_deferred        0\n",
       "deferred_income                  0\n",
       "expenses                         0\n",
       "exercised_stock_options          0\n",
       "other                            0\n",
       "long_term_incentive              0\n",
       "restricted_stock                 0\n",
       "director_fees                    0\n",
       "to_messages                      0\n",
       "from_poi_to_this_person          0\n",
       "from_messages                    0\n",
       "from_this_person_to_poi          0\n",
       "shared_receipt_with_poi          0\n",
       "from_poi_to_this_person_ratio    0\n",
       "from_this_person_to_poi_ratio    0\n",
       "dtype: int64"
      ]
     },
     "execution_count": 78,
     "metadata": {},
     "output_type": "execute_result"
    }
   ],
   "source": [
    "#Check to see all null values are corrected\n",
    "df.isnull().sum()"
   ]
  },
  {
   "cell_type": "markdown",
   "metadata": {},
   "source": [
    "### Check if the \"total_payments\" and \"total_stock_value\" are correct\n",
    "**Find two data points \"BELFER ROBERT\" and \"BHATNAGAR SANJAY\" have problem in \"total_payments\"**  \n",
    "**Correct thess two datapoints**"
   ]
  },
  {
   "cell_type": "code",
   "execution_count": 79,
   "metadata": {},
   "outputs": [
    {
     "data": {
      "text/html": [
       "<div>\n",
       "<style>\n",
       "    .dataframe thead tr:only-child th {\n",
       "        text-align: right;\n",
       "    }\n",
       "\n",
       "    .dataframe thead th {\n",
       "        text-align: left;\n",
       "    }\n",
       "\n",
       "    .dataframe tbody tr th {\n",
       "        vertical-align: top;\n",
       "    }\n",
       "</style>\n",
       "<table border=\"1\" class=\"dataframe\">\n",
       "  <thead>\n",
       "    <tr style=\"text-align: right;\">\n",
       "      <th></th>\n",
       "      <th>poi</th>\n",
       "      <th>total_payments</th>\n",
       "      <th>total_stock_value</th>\n",
       "      <th>salary</th>\n",
       "      <th>deferral_payments</th>\n",
       "      <th>loan_advances</th>\n",
       "      <th>bonus</th>\n",
       "      <th>restricted_stock_deferred</th>\n",
       "      <th>deferred_income</th>\n",
       "      <th>expenses</th>\n",
       "      <th>...</th>\n",
       "      <th>long_term_incentive</th>\n",
       "      <th>restricted_stock</th>\n",
       "      <th>director_fees</th>\n",
       "      <th>to_messages</th>\n",
       "      <th>from_poi_to_this_person</th>\n",
       "      <th>from_messages</th>\n",
       "      <th>from_this_person_to_poi</th>\n",
       "      <th>shared_receipt_with_poi</th>\n",
       "      <th>from_poi_to_this_person_ratio</th>\n",
       "      <th>from_this_person_to_poi_ratio</th>\n",
       "    </tr>\n",
       "  </thead>\n",
       "  <tbody>\n",
       "    <tr>\n",
       "      <th>BELFER ROBERT</th>\n",
       "      <td>False</td>\n",
       "      <td>102500.0</td>\n",
       "      <td>-44093.0</td>\n",
       "      <td>0.0</td>\n",
       "      <td>-102500.0</td>\n",
       "      <td>0.0</td>\n",
       "      <td>0.0</td>\n",
       "      <td>44093.0</td>\n",
       "      <td>0.0</td>\n",
       "      <td>0.0</td>\n",
       "      <td>...</td>\n",
       "      <td>0.0</td>\n",
       "      <td>0.0</td>\n",
       "      <td>3285.0</td>\n",
       "      <td>2073.860465</td>\n",
       "      <td>64.895349</td>\n",
       "      <td>608.790698</td>\n",
       "      <td>41.232558</td>\n",
       "      <td>1176.465116</td>\n",
       "      <td>0.037963</td>\n",
       "      <td>0.184055</td>\n",
       "    </tr>\n",
       "    <tr>\n",
       "      <th>BHATNAGAR SANJAY</th>\n",
       "      <td>False</td>\n",
       "      <td>15456290.0</td>\n",
       "      <td>0.0</td>\n",
       "      <td>0.0</td>\n",
       "      <td>0.0</td>\n",
       "      <td>0.0</td>\n",
       "      <td>0.0</td>\n",
       "      <td>15456290.0</td>\n",
       "      <td>0.0</td>\n",
       "      <td>0.0</td>\n",
       "      <td>...</td>\n",
       "      <td>0.0</td>\n",
       "      <td>-2604490.0</td>\n",
       "      <td>137864.0</td>\n",
       "      <td>523.000000</td>\n",
       "      <td>0.000000</td>\n",
       "      <td>29.000000</td>\n",
       "      <td>1.000000</td>\n",
       "      <td>463.000000</td>\n",
       "      <td>0.000000</td>\n",
       "      <td>0.034483</td>\n",
       "    </tr>\n",
       "  </tbody>\n",
       "</table>\n",
       "<p>2 rows × 22 columns</p>\n",
       "</div>"
      ],
      "text/plain": [
       "                    poi  total_payments  total_stock_value  salary  \\\n",
       "BELFER ROBERT     False        102500.0           -44093.0     0.0   \n",
       "BHATNAGAR SANJAY  False      15456290.0                0.0     0.0   \n",
       "\n",
       "                  deferral_payments  loan_advances  bonus  \\\n",
       "BELFER ROBERT             -102500.0            0.0    0.0   \n",
       "BHATNAGAR SANJAY                0.0            0.0    0.0   \n",
       "\n",
       "                  restricted_stock_deferred  deferred_income  expenses  \\\n",
       "BELFER ROBERT                       44093.0              0.0       0.0   \n",
       "BHATNAGAR SANJAY                 15456290.0              0.0       0.0   \n",
       "\n",
       "                              ...                long_term_incentive  \\\n",
       "BELFER ROBERT                 ...                                0.0   \n",
       "BHATNAGAR SANJAY              ...                                0.0   \n",
       "\n",
       "                  restricted_stock  director_fees  to_messages  \\\n",
       "BELFER ROBERT                  0.0         3285.0  2073.860465   \n",
       "BHATNAGAR SANJAY        -2604490.0       137864.0   523.000000   \n",
       "\n",
       "                  from_poi_to_this_person  from_messages  \\\n",
       "BELFER ROBERT                   64.895349     608.790698   \n",
       "BHATNAGAR SANJAY                 0.000000      29.000000   \n",
       "\n",
       "                  from_this_person_to_poi  shared_receipt_with_poi  \\\n",
       "BELFER ROBERT                   41.232558              1176.465116   \n",
       "BHATNAGAR SANJAY                 1.000000               463.000000   \n",
       "\n",
       "                  from_poi_to_this_person_ratio  from_this_person_to_poi_ratio  \n",
       "BELFER ROBERT                          0.037963                       0.184055  \n",
       "BHATNAGAR SANJAY                       0.000000                       0.034483  \n",
       "\n",
       "[2 rows x 22 columns]"
      ]
     },
     "execution_count": 79,
     "metadata": {},
     "output_type": "execute_result"
    }
   ],
   "source": [
    "#Check the \"total_payments\" \n",
    "payments = [\"salary\",\"deferral_payments\",\"loan_advances\",\"bonus\",\"deferred_income\",\n",
    "            \"expenses\",\"other\",\"director_fees\",\"long_term_incentive\"]\n",
    "df[df[payments].sum(axis = \"columns\")!=df.total_payments] "
   ]
  },
  {
   "cell_type": "code",
   "execution_count": 80,
   "metadata": {
    "collapsed": true
   },
   "outputs": [],
   "source": [
    "#Correct total_payments\n",
    "df[\"total_payments\"][\"BELFER ROBERT\"] = df[payments].loc[\"BELFER ROBERT\"].sum()\n",
    "df[\"total_payments\"][\"BHATNAGAR SANJAY\"] = df[payments].loc[\"BHATNAGAR SANJAY\"].sum()"
   ]
  },
  {
   "cell_type": "code",
   "execution_count": 81,
   "metadata": {},
   "outputs": [
    {
     "data": {
      "text/html": [
       "<div>\n",
       "<style>\n",
       "    .dataframe thead tr:only-child th {\n",
       "        text-align: right;\n",
       "    }\n",
       "\n",
       "    .dataframe thead th {\n",
       "        text-align: left;\n",
       "    }\n",
       "\n",
       "    .dataframe tbody tr th {\n",
       "        vertical-align: top;\n",
       "    }\n",
       "</style>\n",
       "<table border=\"1\" class=\"dataframe\">\n",
       "  <thead>\n",
       "    <tr style=\"text-align: right;\">\n",
       "      <th></th>\n",
       "      <th>poi</th>\n",
       "      <th>total_payments</th>\n",
       "      <th>total_stock_value</th>\n",
       "      <th>salary</th>\n",
       "      <th>deferral_payments</th>\n",
       "      <th>loan_advances</th>\n",
       "      <th>bonus</th>\n",
       "      <th>restricted_stock_deferred</th>\n",
       "      <th>deferred_income</th>\n",
       "      <th>expenses</th>\n",
       "      <th>...</th>\n",
       "      <th>long_term_incentive</th>\n",
       "      <th>restricted_stock</th>\n",
       "      <th>director_fees</th>\n",
       "      <th>to_messages</th>\n",
       "      <th>from_poi_to_this_person</th>\n",
       "      <th>from_messages</th>\n",
       "      <th>from_this_person_to_poi</th>\n",
       "      <th>shared_receipt_with_poi</th>\n",
       "      <th>from_poi_to_this_person_ratio</th>\n",
       "      <th>from_this_person_to_poi_ratio</th>\n",
       "    </tr>\n",
       "  </thead>\n",
       "  <tbody>\n",
       "  </tbody>\n",
       "</table>\n",
       "<p>0 rows × 22 columns</p>\n",
       "</div>"
      ],
      "text/plain": [
       "Empty DataFrame\n",
       "Columns: [poi, total_payments, total_stock_value, salary, deferral_payments, loan_advances, bonus, restricted_stock_deferred, deferred_income, expenses, exercised_stock_options, other, long_term_incentive, restricted_stock, director_fees, to_messages, from_poi_to_this_person, from_messages, from_this_person_to_poi, shared_receipt_with_poi, from_poi_to_this_person_ratio, from_this_person_to_poi_ratio]\n",
       "Index: []\n",
       "\n",
       "[0 rows x 22 columns]"
      ]
     },
     "execution_count": 81,
     "metadata": {},
     "output_type": "execute_result"
    }
   ],
   "source": [
    "#Make sure all incorrect total_payments are properly corrected\n",
    "df[df[payments].sum(axis = \"columns\")!=df.total_payments] "
   ]
  },
  {
   "cell_type": "code",
   "execution_count": 82,
   "metadata": {},
   "outputs": [
    {
     "data": {
      "text/html": [
       "<div>\n",
       "<style>\n",
       "    .dataframe thead tr:only-child th {\n",
       "        text-align: right;\n",
       "    }\n",
       "\n",
       "    .dataframe thead th {\n",
       "        text-align: left;\n",
       "    }\n",
       "\n",
       "    .dataframe tbody tr th {\n",
       "        vertical-align: top;\n",
       "    }\n",
       "</style>\n",
       "<table border=\"1\" class=\"dataframe\">\n",
       "  <thead>\n",
       "    <tr style=\"text-align: right;\">\n",
       "      <th></th>\n",
       "      <th>poi</th>\n",
       "      <th>total_payments</th>\n",
       "      <th>total_stock_value</th>\n",
       "      <th>salary</th>\n",
       "      <th>deferral_payments</th>\n",
       "      <th>loan_advances</th>\n",
       "      <th>bonus</th>\n",
       "      <th>restricted_stock_deferred</th>\n",
       "      <th>deferred_income</th>\n",
       "      <th>expenses</th>\n",
       "      <th>...</th>\n",
       "      <th>long_term_incentive</th>\n",
       "      <th>restricted_stock</th>\n",
       "      <th>director_fees</th>\n",
       "      <th>to_messages</th>\n",
       "      <th>from_poi_to_this_person</th>\n",
       "      <th>from_messages</th>\n",
       "      <th>from_this_person_to_poi</th>\n",
       "      <th>shared_receipt_with_poi</th>\n",
       "      <th>from_poi_to_this_person_ratio</th>\n",
       "      <th>from_this_person_to_poi_ratio</th>\n",
       "    </tr>\n",
       "  </thead>\n",
       "  <tbody>\n",
       "    <tr>\n",
       "      <th>BELFER ROBERT</th>\n",
       "      <td>False</td>\n",
       "      <td>-99215.0</td>\n",
       "      <td>-44093.0</td>\n",
       "      <td>0.0</td>\n",
       "      <td>-102500.0</td>\n",
       "      <td>0.0</td>\n",
       "      <td>0.0</td>\n",
       "      <td>44093.0</td>\n",
       "      <td>0.0</td>\n",
       "      <td>0.0</td>\n",
       "      <td>...</td>\n",
       "      <td>0.0</td>\n",
       "      <td>0.0</td>\n",
       "      <td>3285.0</td>\n",
       "      <td>2073.860465</td>\n",
       "      <td>64.895349</td>\n",
       "      <td>608.790698</td>\n",
       "      <td>41.232558</td>\n",
       "      <td>1176.465116</td>\n",
       "      <td>0.037963</td>\n",
       "      <td>0.184055</td>\n",
       "    </tr>\n",
       "    <tr>\n",
       "      <th>BHATNAGAR SANJAY</th>\n",
       "      <td>False</td>\n",
       "      <td>275728.0</td>\n",
       "      <td>0.0</td>\n",
       "      <td>0.0</td>\n",
       "      <td>0.0</td>\n",
       "      <td>0.0</td>\n",
       "      <td>0.0</td>\n",
       "      <td>15456290.0</td>\n",
       "      <td>0.0</td>\n",
       "      <td>0.0</td>\n",
       "      <td>...</td>\n",
       "      <td>0.0</td>\n",
       "      <td>-2604490.0</td>\n",
       "      <td>137864.0</td>\n",
       "      <td>523.000000</td>\n",
       "      <td>0.000000</td>\n",
       "      <td>29.000000</td>\n",
       "      <td>1.000000</td>\n",
       "      <td>463.000000</td>\n",
       "      <td>0.000000</td>\n",
       "      <td>0.034483</td>\n",
       "    </tr>\n",
       "  </tbody>\n",
       "</table>\n",
       "<p>2 rows × 22 columns</p>\n",
       "</div>"
      ],
      "text/plain": [
       "                    poi  total_payments  total_stock_value  salary  \\\n",
       "BELFER ROBERT     False        -99215.0           -44093.0     0.0   \n",
       "BHATNAGAR SANJAY  False        275728.0                0.0     0.0   \n",
       "\n",
       "                  deferral_payments  loan_advances  bonus  \\\n",
       "BELFER ROBERT             -102500.0            0.0    0.0   \n",
       "BHATNAGAR SANJAY                0.0            0.0    0.0   \n",
       "\n",
       "                  restricted_stock_deferred  deferred_income  expenses  \\\n",
       "BELFER ROBERT                       44093.0              0.0       0.0   \n",
       "BHATNAGAR SANJAY                 15456290.0              0.0       0.0   \n",
       "\n",
       "                              ...                long_term_incentive  \\\n",
       "BELFER ROBERT                 ...                                0.0   \n",
       "BHATNAGAR SANJAY              ...                                0.0   \n",
       "\n",
       "                  restricted_stock  director_fees  to_messages  \\\n",
       "BELFER ROBERT                  0.0         3285.0  2073.860465   \n",
       "BHATNAGAR SANJAY        -2604490.0       137864.0   523.000000   \n",
       "\n",
       "                  from_poi_to_this_person  from_messages  \\\n",
       "BELFER ROBERT                   64.895349     608.790698   \n",
       "BHATNAGAR SANJAY                 0.000000      29.000000   \n",
       "\n",
       "                  from_this_person_to_poi  shared_receipt_with_poi  \\\n",
       "BELFER ROBERT                   41.232558              1176.465116   \n",
       "BHATNAGAR SANJAY                 1.000000               463.000000   \n",
       "\n",
       "                  from_poi_to_this_person_ratio  from_this_person_to_poi_ratio  \n",
       "BELFER ROBERT                          0.037963                       0.184055  \n",
       "BHATNAGAR SANJAY                       0.000000                       0.034483  \n",
       "\n",
       "[2 rows x 22 columns]"
      ]
     },
     "execution_count": 82,
     "metadata": {},
     "output_type": "execute_result"
    }
   ],
   "source": [
    "#Check the \"total_stock_value\"\n",
    "stock_value = [\"restricted_stock_deferred\",\"exercised_stock_options\",\"restricted_stock\"]\n",
    "df[df[stock_value].sum(axis = \"columns\") !=df.total_stock_value]"
   ]
  },
  {
   "cell_type": "code",
   "execution_count": 83,
   "metadata": {
    "collapsed": true
   },
   "outputs": [],
   "source": [
    "#Correct total_stock_value\n",
    "df[\"total_stock_value\"][\"BELFER ROBERT\"] = df[stock_value].loc[\"BELFER ROBERT\"].sum()\n",
    "df[\"total_stock_value\"][\"BHATNAGAR SANJAY\"] = df[stock_value].loc[\"BHATNAGAR SANJAY\"].sum()"
   ]
  },
  {
   "cell_type": "code",
   "execution_count": 84,
   "metadata": {},
   "outputs": [
    {
     "data": {
      "text/html": [
       "<div>\n",
       "<style>\n",
       "    .dataframe thead tr:only-child th {\n",
       "        text-align: right;\n",
       "    }\n",
       "\n",
       "    .dataframe thead th {\n",
       "        text-align: left;\n",
       "    }\n",
       "\n",
       "    .dataframe tbody tr th {\n",
       "        vertical-align: top;\n",
       "    }\n",
       "</style>\n",
       "<table border=\"1\" class=\"dataframe\">\n",
       "  <thead>\n",
       "    <tr style=\"text-align: right;\">\n",
       "      <th></th>\n",
       "      <th>poi</th>\n",
       "      <th>total_payments</th>\n",
       "      <th>total_stock_value</th>\n",
       "      <th>salary</th>\n",
       "      <th>deferral_payments</th>\n",
       "      <th>loan_advances</th>\n",
       "      <th>bonus</th>\n",
       "      <th>restricted_stock_deferred</th>\n",
       "      <th>deferred_income</th>\n",
       "      <th>expenses</th>\n",
       "      <th>...</th>\n",
       "      <th>long_term_incentive</th>\n",
       "      <th>restricted_stock</th>\n",
       "      <th>director_fees</th>\n",
       "      <th>to_messages</th>\n",
       "      <th>from_poi_to_this_person</th>\n",
       "      <th>from_messages</th>\n",
       "      <th>from_this_person_to_poi</th>\n",
       "      <th>shared_receipt_with_poi</th>\n",
       "      <th>from_poi_to_this_person_ratio</th>\n",
       "      <th>from_this_person_to_poi_ratio</th>\n",
       "    </tr>\n",
       "  </thead>\n",
       "  <tbody>\n",
       "  </tbody>\n",
       "</table>\n",
       "<p>0 rows × 22 columns</p>\n",
       "</div>"
      ],
      "text/plain": [
       "Empty DataFrame\n",
       "Columns: [poi, total_payments, total_stock_value, salary, deferral_payments, loan_advances, bonus, restricted_stock_deferred, deferred_income, expenses, exercised_stock_options, other, long_term_incentive, restricted_stock, director_fees, to_messages, from_poi_to_this_person, from_messages, from_this_person_to_poi, shared_receipt_with_poi, from_poi_to_this_person_ratio, from_this_person_to_poi_ratio]\n",
       "Index: []\n",
       "\n",
       "[0 rows x 22 columns]"
      ]
     },
     "execution_count": 84,
     "metadata": {},
     "output_type": "execute_result"
    }
   ],
   "source": [
    "#Make sure all incorrect total_stock_value are properly corrected\n",
    "df[df[stock_value].sum(axis = \"columns\")!=df.total_stock_value] "
   ]
  },
  {
   "cell_type": "markdown",
   "metadata": {},
   "source": [
    "**Check the first 5 rows of the dataset**"
   ]
  },
  {
   "cell_type": "code",
   "execution_count": 85,
   "metadata": {},
   "outputs": [
    {
     "data": {
      "text/html": [
       "<div>\n",
       "<style>\n",
       "    .dataframe thead tr:only-child th {\n",
       "        text-align: right;\n",
       "    }\n",
       "\n",
       "    .dataframe thead th {\n",
       "        text-align: left;\n",
       "    }\n",
       "\n",
       "    .dataframe tbody tr th {\n",
       "        vertical-align: top;\n",
       "    }\n",
       "</style>\n",
       "<table border=\"1\" class=\"dataframe\">\n",
       "  <thead>\n",
       "    <tr style=\"text-align: right;\">\n",
       "      <th></th>\n",
       "      <th>poi</th>\n",
       "      <th>total_payments</th>\n",
       "      <th>total_stock_value</th>\n",
       "      <th>salary</th>\n",
       "      <th>deferral_payments</th>\n",
       "      <th>loan_advances</th>\n",
       "      <th>bonus</th>\n",
       "      <th>restricted_stock_deferred</th>\n",
       "      <th>deferred_income</th>\n",
       "      <th>expenses</th>\n",
       "      <th>...</th>\n",
       "      <th>long_term_incentive</th>\n",
       "      <th>restricted_stock</th>\n",
       "      <th>director_fees</th>\n",
       "      <th>to_messages</th>\n",
       "      <th>from_poi_to_this_person</th>\n",
       "      <th>from_messages</th>\n",
       "      <th>from_this_person_to_poi</th>\n",
       "      <th>shared_receipt_with_poi</th>\n",
       "      <th>from_poi_to_this_person_ratio</th>\n",
       "      <th>from_this_person_to_poi_ratio</th>\n",
       "    </tr>\n",
       "  </thead>\n",
       "  <tbody>\n",
       "    <tr>\n",
       "      <th>ALLEN PHILLIP K</th>\n",
       "      <td>False</td>\n",
       "      <td>4484442.0</td>\n",
       "      <td>1729541.0</td>\n",
       "      <td>201955.0</td>\n",
       "      <td>2869717.0</td>\n",
       "      <td>0.0</td>\n",
       "      <td>4175000.0</td>\n",
       "      <td>-126027.0</td>\n",
       "      <td>-3081055.0</td>\n",
       "      <td>13868.0</td>\n",
       "      <td>...</td>\n",
       "      <td>304805.0</td>\n",
       "      <td>126027.0</td>\n",
       "      <td>0.0</td>\n",
       "      <td>2902.000000</td>\n",
       "      <td>47.000000</td>\n",
       "      <td>2195.000000</td>\n",
       "      <td>65.000000</td>\n",
       "      <td>1407.000000</td>\n",
       "      <td>0.016196</td>\n",
       "      <td>0.029613</td>\n",
       "    </tr>\n",
       "    <tr>\n",
       "      <th>BADUM JAMES P</th>\n",
       "      <td>False</td>\n",
       "      <td>182466.0</td>\n",
       "      <td>257817.0</td>\n",
       "      <td>0.0</td>\n",
       "      <td>178980.0</td>\n",
       "      <td>0.0</td>\n",
       "      <td>0.0</td>\n",
       "      <td>0.0</td>\n",
       "      <td>0.0</td>\n",
       "      <td>3486.0</td>\n",
       "      <td>...</td>\n",
       "      <td>0.0</td>\n",
       "      <td>0.0</td>\n",
       "      <td>0.0</td>\n",
       "      <td>2073.860465</td>\n",
       "      <td>64.895349</td>\n",
       "      <td>608.790698</td>\n",
       "      <td>41.232558</td>\n",
       "      <td>1176.465116</td>\n",
       "      <td>0.037963</td>\n",
       "      <td>0.184055</td>\n",
       "    </tr>\n",
       "    <tr>\n",
       "      <th>BANNANTINE JAMES M</th>\n",
       "      <td>False</td>\n",
       "      <td>916197.0</td>\n",
       "      <td>5243487.0</td>\n",
       "      <td>477.0</td>\n",
       "      <td>0.0</td>\n",
       "      <td>0.0</td>\n",
       "      <td>0.0</td>\n",
       "      <td>-560222.0</td>\n",
       "      <td>-5104.0</td>\n",
       "      <td>56301.0</td>\n",
       "      <td>...</td>\n",
       "      <td>0.0</td>\n",
       "      <td>1757552.0</td>\n",
       "      <td>0.0</td>\n",
       "      <td>566.000000</td>\n",
       "      <td>39.000000</td>\n",
       "      <td>29.000000</td>\n",
       "      <td>0.000000</td>\n",
       "      <td>465.000000</td>\n",
       "      <td>0.068905</td>\n",
       "      <td>0.000000</td>\n",
       "    </tr>\n",
       "    <tr>\n",
       "      <th>BAXTER JOHN C</th>\n",
       "      <td>False</td>\n",
       "      <td>5634343.0</td>\n",
       "      <td>10623258.0</td>\n",
       "      <td>267102.0</td>\n",
       "      <td>1295738.0</td>\n",
       "      <td>0.0</td>\n",
       "      <td>1200000.0</td>\n",
       "      <td>0.0</td>\n",
       "      <td>-1386055.0</td>\n",
       "      <td>11200.0</td>\n",
       "      <td>...</td>\n",
       "      <td>1586055.0</td>\n",
       "      <td>3942714.0</td>\n",
       "      <td>0.0</td>\n",
       "      <td>2073.860465</td>\n",
       "      <td>64.895349</td>\n",
       "      <td>608.790698</td>\n",
       "      <td>41.232558</td>\n",
       "      <td>1176.465116</td>\n",
       "      <td>0.037963</td>\n",
       "      <td>0.184055</td>\n",
       "    </tr>\n",
       "    <tr>\n",
       "      <th>BAY FRANKLIN R</th>\n",
       "      <td>False</td>\n",
       "      <td>827696.0</td>\n",
       "      <td>63014.0</td>\n",
       "      <td>239671.0</td>\n",
       "      <td>260455.0</td>\n",
       "      <td>0.0</td>\n",
       "      <td>400000.0</td>\n",
       "      <td>-82782.0</td>\n",
       "      <td>-201641.0</td>\n",
       "      <td>129142.0</td>\n",
       "      <td>...</td>\n",
       "      <td>0.0</td>\n",
       "      <td>145796.0</td>\n",
       "      <td>0.0</td>\n",
       "      <td>2073.860465</td>\n",
       "      <td>64.895349</td>\n",
       "      <td>608.790698</td>\n",
       "      <td>41.232558</td>\n",
       "      <td>1176.465116</td>\n",
       "      <td>0.037963</td>\n",
       "      <td>0.184055</td>\n",
       "    </tr>\n",
       "  </tbody>\n",
       "</table>\n",
       "<p>5 rows × 22 columns</p>\n",
       "</div>"
      ],
      "text/plain": [
       "                      poi  total_payments  total_stock_value    salary  \\\n",
       "ALLEN PHILLIP K     False       4484442.0          1729541.0  201955.0   \n",
       "BADUM JAMES P       False        182466.0           257817.0       0.0   \n",
       "BANNANTINE JAMES M  False        916197.0          5243487.0     477.0   \n",
       "BAXTER JOHN C       False       5634343.0         10623258.0  267102.0   \n",
       "BAY FRANKLIN R      False        827696.0            63014.0  239671.0   \n",
       "\n",
       "                    deferral_payments  loan_advances      bonus  \\\n",
       "ALLEN PHILLIP K             2869717.0            0.0  4175000.0   \n",
       "BADUM JAMES P                178980.0            0.0        0.0   \n",
       "BANNANTINE JAMES M                0.0            0.0        0.0   \n",
       "BAXTER JOHN C               1295738.0            0.0  1200000.0   \n",
       "BAY FRANKLIN R               260455.0            0.0   400000.0   \n",
       "\n",
       "                    restricted_stock_deferred  deferred_income  expenses  \\\n",
       "ALLEN PHILLIP K                     -126027.0       -3081055.0   13868.0   \n",
       "BADUM JAMES P                             0.0              0.0    3486.0   \n",
       "BANNANTINE JAMES M                  -560222.0          -5104.0   56301.0   \n",
       "BAXTER JOHN C                             0.0       -1386055.0   11200.0   \n",
       "BAY FRANKLIN R                       -82782.0        -201641.0  129142.0   \n",
       "\n",
       "                                ...                long_term_incentive  \\\n",
       "ALLEN PHILLIP K                 ...                           304805.0   \n",
       "BADUM JAMES P                   ...                                0.0   \n",
       "BANNANTINE JAMES M              ...                                0.0   \n",
       "BAXTER JOHN C                   ...                          1586055.0   \n",
       "BAY FRANKLIN R                  ...                                0.0   \n",
       "\n",
       "                    restricted_stock  director_fees  to_messages  \\\n",
       "ALLEN PHILLIP K             126027.0            0.0  2902.000000   \n",
       "BADUM JAMES P                    0.0            0.0  2073.860465   \n",
       "BANNANTINE JAMES M         1757552.0            0.0   566.000000   \n",
       "BAXTER JOHN C              3942714.0            0.0  2073.860465   \n",
       "BAY FRANKLIN R              145796.0            0.0  2073.860465   \n",
       "\n",
       "                    from_poi_to_this_person  from_messages  \\\n",
       "ALLEN PHILLIP K                   47.000000    2195.000000   \n",
       "BADUM JAMES P                     64.895349     608.790698   \n",
       "BANNANTINE JAMES M                39.000000      29.000000   \n",
       "BAXTER JOHN C                     64.895349     608.790698   \n",
       "BAY FRANKLIN R                    64.895349     608.790698   \n",
       "\n",
       "                    from_this_person_to_poi  shared_receipt_with_poi  \\\n",
       "ALLEN PHILLIP K                   65.000000              1407.000000   \n",
       "BADUM JAMES P                     41.232558              1176.465116   \n",
       "BANNANTINE JAMES M                 0.000000               465.000000   \n",
       "BAXTER JOHN C                     41.232558              1176.465116   \n",
       "BAY FRANKLIN R                    41.232558              1176.465116   \n",
       "\n",
       "                    from_poi_to_this_person_ratio  \\\n",
       "ALLEN PHILLIP K                          0.016196   \n",
       "BADUM JAMES P                            0.037963   \n",
       "BANNANTINE JAMES M                       0.068905   \n",
       "BAXTER JOHN C                            0.037963   \n",
       "BAY FRANKLIN R                           0.037963   \n",
       "\n",
       "                    from_this_person_to_poi_ratio  \n",
       "ALLEN PHILLIP K                          0.029613  \n",
       "BADUM JAMES P                            0.184055  \n",
       "BANNANTINE JAMES M                       0.000000  \n",
       "BAXTER JOHN C                            0.184055  \n",
       "BAY FRANKLIN R                           0.184055  \n",
       "\n",
       "[5 rows x 22 columns]"
      ]
     },
     "execution_count": 85,
     "metadata": {},
     "output_type": "execute_result"
    }
   ],
   "source": [
    "df.head()"
   ]
  },
  {
   "cell_type": "code",
   "execution_count": 86,
   "metadata": {},
   "outputs": [
    {
     "name": "stdout",
     "output_type": "stream",
     "text": [
      "There are 144 people and 22 features in this dataset\n"
     ]
    }
   ],
   "source": [
    "#Store to my_dataset for easy export below\n",
    "my_dataset = df.to_dict(orient = \"index\")\n",
    "feature_list_new = list(df.columns.values)\n",
    "print \"There are {} people and {} features in this dataset\".format(len(my_dataset),len(feature_list_new))"
   ]
  },
  {
   "cell_type": "code",
   "execution_count": 87,
   "metadata": {
    "collapsed": true
   },
   "outputs": [],
   "source": [
    "#extract features and labels from dataset for testing\n",
    "data = featureFormat(my_dataset,feature_list_new,sort_keys=True)\n",
    "labels,features = targetFeatureSplit(data)"
   ]
  },
  {
   "cell_type": "markdown",
   "metadata": {},
   "source": [
    "## Task 5 Feature selection\n",
    "**Select features using random forest**"
   ]
  },
  {
   "cell_type": "code",
   "execution_count": 93,
   "metadata": {},
   "outputs": [
    {
     "name": "stdout",
     "output_type": "stream",
     "text": [
      "RandomForestClassifier(bootstrap=True, class_weight=None, criterion='gini',\n",
      "            max_depth=None, max_features='auto', max_leaf_nodes=None,\n",
      "            min_impurity_split=1e-07, min_samples_leaf=1,\n",
      "            min_samples_split=2, min_weight_fraction_leaf=0.0,\n",
      "            n_estimators=10, n_jobs=1, oob_score=False, random_state=0,\n",
      "            verbose=0, warm_start=False)\n",
      "\tAccuracy: 0.85927\tPrecision: 0.41005\tRecall: 0.12650\tF1: 0.19335\tF2: 0.14680\n",
      "\tTotal predictions: 15000\tTrue positives:  253\tFalse positives:  364\tFalse negatives: 1747\tTrue negatives: 12636\n",
      "\n"
     ]
    }
   ],
   "source": [
    "#select features using random forest\n",
    "from sklearn.ensemble import RandomForestClassifier\n",
    "clf = RandomForestClassifier(random_state=0)\n",
    "tester.test_classifier(clf, my_dataset,feature_list_new)"
   ]
  },
  {
   "cell_type": "markdown",
   "metadata": {},
   "source": [
    "**List the feature importance**"
   ]
  },
  {
   "cell_type": "code",
   "execution_count": 94,
   "metadata": {
    "collapsed": true
   },
   "outputs": [],
   "source": [
    "importances = clf.feature_importances_\n",
    "indices = np.argsort(importances)[::-1]"
   ]
  },
  {
   "cell_type": "code",
   "execution_count": 95,
   "metadata": {
    "collapsed": true
   },
   "outputs": [],
   "source": [
    "features_list = sorted(zip(map(lambda x: round(x, 4), clf.feature_importances_), \n",
    "                           feature_list_new[1:]), reverse=True)\n",
    "\n",
    "features_df = pd.DataFrame(features_list)\n",
    "features_df = features_df.rename(index = str, columns = {0:\"importance\",1:\"feature\"})"
   ]
  },
  {
   "cell_type": "code",
   "execution_count": 96,
   "metadata": {},
   "outputs": [
    {
     "data": {
      "text/html": [
       "<div>\n",
       "<style>\n",
       "    .dataframe thead tr:only-child th {\n",
       "        text-align: right;\n",
       "    }\n",
       "\n",
       "    .dataframe thead th {\n",
       "        text-align: left;\n",
       "    }\n",
       "\n",
       "    .dataframe tbody tr th {\n",
       "        vertical-align: top;\n",
       "    }\n",
       "</style>\n",
       "<table border=\"1\" class=\"dataframe\">\n",
       "  <thead>\n",
       "    <tr style=\"text-align: right;\">\n",
       "      <th></th>\n",
       "      <th>importance</th>\n",
       "      <th>feature</th>\n",
       "    </tr>\n",
       "  </thead>\n",
       "  <tbody>\n",
       "    <tr>\n",
       "      <th>0</th>\n",
       "      <td>0.1533</td>\n",
       "      <td>other</td>\n",
       "    </tr>\n",
       "    <tr>\n",
       "      <th>1</th>\n",
       "      <td>0.1422</td>\n",
       "      <td>from_this_person_to_poi_ratio</td>\n",
       "    </tr>\n",
       "    <tr>\n",
       "      <th>2</th>\n",
       "      <td>0.1299</td>\n",
       "      <td>exercised_stock_options</td>\n",
       "    </tr>\n",
       "    <tr>\n",
       "      <th>3</th>\n",
       "      <td>0.0954</td>\n",
       "      <td>expenses</td>\n",
       "    </tr>\n",
       "    <tr>\n",
       "      <th>4</th>\n",
       "      <td>0.0736</td>\n",
       "      <td>salary</td>\n",
       "    </tr>\n",
       "    <tr>\n",
       "      <th>5</th>\n",
       "      <td>0.0620</td>\n",
       "      <td>restricted_stock</td>\n",
       "    </tr>\n",
       "    <tr>\n",
       "      <th>6</th>\n",
       "      <td>0.0533</td>\n",
       "      <td>long_term_incentive</td>\n",
       "    </tr>\n",
       "    <tr>\n",
       "      <th>7</th>\n",
       "      <td>0.0467</td>\n",
       "      <td>total_payments</td>\n",
       "    </tr>\n",
       "    <tr>\n",
       "      <th>8</th>\n",
       "      <td>0.0426</td>\n",
       "      <td>bonus</td>\n",
       "    </tr>\n",
       "    <tr>\n",
       "      <th>9</th>\n",
       "      <td>0.0401</td>\n",
       "      <td>to_messages</td>\n",
       "    </tr>\n",
       "    <tr>\n",
       "      <th>10</th>\n",
       "      <td>0.0330</td>\n",
       "      <td>total_stock_value</td>\n",
       "    </tr>\n",
       "    <tr>\n",
       "      <th>11</th>\n",
       "      <td>0.0325</td>\n",
       "      <td>from_poi_to_this_person</td>\n",
       "    </tr>\n",
       "    <tr>\n",
       "      <th>12</th>\n",
       "      <td>0.0302</td>\n",
       "      <td>deferred_income</td>\n",
       "    </tr>\n",
       "    <tr>\n",
       "      <th>13</th>\n",
       "      <td>0.0263</td>\n",
       "      <td>from_poi_to_this_person_ratio</td>\n",
       "    </tr>\n",
       "    <tr>\n",
       "      <th>14</th>\n",
       "      <td>0.0213</td>\n",
       "      <td>shared_receipt_with_poi</td>\n",
       "    </tr>\n",
       "    <tr>\n",
       "      <th>15</th>\n",
       "      <td>0.0148</td>\n",
       "      <td>deferral_payments</td>\n",
       "    </tr>\n",
       "    <tr>\n",
       "      <th>16</th>\n",
       "      <td>0.0028</td>\n",
       "      <td>from_this_person_to_poi</td>\n",
       "    </tr>\n",
       "    <tr>\n",
       "      <th>17</th>\n",
       "      <td>0.0000</td>\n",
       "      <td>restricted_stock_deferred</td>\n",
       "    </tr>\n",
       "    <tr>\n",
       "      <th>18</th>\n",
       "      <td>0.0000</td>\n",
       "      <td>loan_advances</td>\n",
       "    </tr>\n",
       "    <tr>\n",
       "      <th>19</th>\n",
       "      <td>0.0000</td>\n",
       "      <td>from_messages</td>\n",
       "    </tr>\n",
       "    <tr>\n",
       "      <th>20</th>\n",
       "      <td>0.0000</td>\n",
       "      <td>director_fees</td>\n",
       "    </tr>\n",
       "  </tbody>\n",
       "</table>\n",
       "</div>"
      ],
      "text/plain": [
       "    importance                        feature\n",
       "0       0.1533                          other\n",
       "1       0.1422  from_this_person_to_poi_ratio\n",
       "2       0.1299        exercised_stock_options\n",
       "3       0.0954                       expenses\n",
       "4       0.0736                         salary\n",
       "5       0.0620               restricted_stock\n",
       "6       0.0533            long_term_incentive\n",
       "7       0.0467                 total_payments\n",
       "8       0.0426                          bonus\n",
       "9       0.0401                    to_messages\n",
       "10      0.0330              total_stock_value\n",
       "11      0.0325        from_poi_to_this_person\n",
       "12      0.0302                deferred_income\n",
       "13      0.0263  from_poi_to_this_person_ratio\n",
       "14      0.0213        shared_receipt_with_poi\n",
       "15      0.0148              deferral_payments\n",
       "16      0.0028        from_this_person_to_poi\n",
       "17      0.0000      restricted_stock_deferred\n",
       "18      0.0000                  loan_advances\n",
       "19      0.0000                  from_messages\n",
       "20      0.0000                  director_fees"
      ]
     },
     "execution_count": 96,
     "metadata": {},
     "output_type": "execute_result"
    }
   ],
   "source": [
    "features_df"
   ]
  },
  {
   "cell_type": "code",
   "execution_count": 97,
   "metadata": {},
   "outputs": [
    {
     "data": {
      "text/plain": [
       "<matplotlib.axes._subplots.AxesSubplot at 0xd5ee898>"
      ]
     },
     "execution_count": 97,
     "metadata": {},
     "output_type": "execute_result"
    },
    {
     "data": {
      "image/png": "[encoded data removed]",
      "text/plain": [
       "<matplotlib.figure.Figure at 0x2ae40f0>"
      ]
     },
     "metadata": {},
     "output_type": "display_data"
    }
   ],
   "source": [
    "features_df.plot(kind = 'bar')"
   ]
  },
  {
   "cell_type": "markdown",
   "metadata": {},
   "source": [
    "#### Selected final features based on importance   \n",
    "In which  \n",
    "The selected_featuers1 has 'other','from_this_person_to_poi_ratio','exercised_stock_options'and 'expenses', based on threshold of **0.08**  \n",
    "The selected_features3 has all features in selected_features1 plus 'salary' and 'restricted_stock', based on threshold of **0.06**  \n",
    "The selected_features2 is in between selected_features1 and selected_features2  \n",
    "These three sets of features are tested afterward \n",
    "\n",
    "One of these new features **'from_this_person_to_poi_ratio'** is the second important feature."
   ]
  },
  {
   "cell_type": "code",
   "execution_count": 129,
   "metadata": {
    "collapsed": true
   },
   "outputs": [],
   "source": [
    "#the threshold of accuracy is 0.08 and 0.06\n",
    "selected_features1 = ['poi','other','from_this_person_to_poi_ratio','exercised_stock_options','expenses']\n",
    "\n",
    "selected_features3 = ['poi','other','from_this_person_to_poi_ratio','exercised_stock_options','expenses',\n",
    "                     'salary','restricted_stock']\n",
    "\n",
    "selected_features2 = ['poi','other','from_this_person_to_poi_ratio','exercised_stock_options','expenses',\n",
    "                     'salary']"
   ]
  },
  {
   "cell_type": "markdown",
   "metadata": {},
   "source": [
    "## Task 6 Try different classifiers  \n",
    "**Naive Bayes, Decision Trees and Random Forest are used for this task. These classifiers do not require feature scaling since these algorithms do not calculate Euclidean distance.** \n",
    "**There is no standardization or normalization on dataset.**"
   ]
  },
  {
   "cell_type": "code",
   "execution_count": 34,
   "metadata": {
    "collapsed": true
   },
   "outputs": [],
   "source": [
    "#Try a variaty of classifiers\n",
    "from sklearn.naive_bayes import GaussianNB\n",
    "from sklearn.tree import DecisionTreeClassifier\n",
    "from sklearn.ensemble import AdaBoostClassifier\n",
    "from sklearn.neighbors import KNeighborsClassifier\n",
    "from sklearn.ensemble import BaggingClassifier"
   ]
  },
  {
   "cell_type": "code",
   "execution_count": 130,
   "metadata": {
    "scrolled": true
   },
   "outputs": [
    {
     "name": "stdout",
     "output_type": "stream",
     "text": [
      "GaussianNB(priors=None)\n",
      "\tAccuracy: 0.85847\tPrecision: 0.42890\tRecall: 0.18550\tF1: 0.25899\tF2: 0.20925\n",
      "\tTotal predictions: 15000\tTrue positives:  371\tFalse positives:  494\tFalse negatives: 1629\tTrue negatives: 12506\n",
      "\n",
      "GaussianNB(priors=None)\n",
      "\tAccuracy: 0.85733\tPrecision: 0.41686\tRecall: 0.17550\tF1: 0.24701\tF2: 0.19848\n",
      "\tTotal predictions: 15000\tTrue positives:  351\tFalse positives:  491\tFalse negatives: 1649\tTrue negatives: 12509\n",
      "\n",
      "GaussianNB(priors=None)\n",
      "\tAccuracy: 0.85393\tPrecision: 0.40265\tRecall: 0.19750\tF1: 0.26501\tF2: 0.21991\n",
      "\tTotal predictions: 15000\tTrue positives:  395\tFalse positives:  586\tFalse negatives: 1605\tTrue negatives: 12414\n",
      "\n"
     ]
    }
   ],
   "source": [
    "#gaussian navie bays using 4 features,5 features and 6 features\n",
    "nb = GaussianNB()\n",
    "for i in [selected_features1,selected_features2,selected_features3]:\n",
    "    tester.test_classifier(nb, my_dataset,i)"
   ]
  },
  {
   "cell_type": "code",
   "execution_count": 131,
   "metadata": {
    "scrolled": true
   },
   "outputs": [
    {
     "name": "stdout",
     "output_type": "stream",
     "text": [
      "DecisionTreeClassifier(class_weight=None, criterion='gini', max_depth=None,\n",
      "            max_features=None, max_leaf_nodes=None,\n",
      "            min_impurity_split=1e-07, min_samples_leaf=1,\n",
      "            min_samples_split=2, min_weight_fraction_leaf=0.0,\n",
      "            presort=False, random_state=0, splitter='best')\n",
      "\tAccuracy: 0.81680\tPrecision: 0.31225\tRecall: 0.31100\tF1: 0.31162\tF2: 0.31125\n",
      "\tTotal predictions: 15000\tTrue positives:  622\tFalse positives: 1370\tFalse negatives: 1378\tTrue negatives: 11630\n",
      "\n",
      "DecisionTreeClassifier(class_weight=None, criterion='gini', max_depth=None,\n",
      "            max_features=None, max_leaf_nodes=None,\n",
      "            min_impurity_split=1e-07, min_samples_leaf=1,\n",
      "            min_samples_split=2, min_weight_fraction_leaf=0.0,\n",
      "            presort=False, random_state=0, splitter='best')\n",
      "\tAccuracy: 0.81893\tPrecision: 0.32207\tRecall: 0.32400\tF1: 0.32303\tF2: 0.32361\n",
      "\tTotal predictions: 15000\tTrue positives:  648\tFalse positives: 1364\tFalse negatives: 1352\tTrue negatives: 11636\n",
      "\n",
      "DecisionTreeClassifier(class_weight=None, criterion='gini', max_depth=None,\n",
      "            max_features=None, max_leaf_nodes=None,\n",
      "            min_impurity_split=1e-07, min_samples_leaf=1,\n",
      "            min_samples_split=2, min_weight_fraction_leaf=0.0,\n",
      "            presort=False, random_state=0, splitter='best')\n",
      "\tAccuracy: 0.81427\tPrecision: 0.30602\tRecall: 0.31000\tF1: 0.30800\tF2: 0.30920\n",
      "\tTotal predictions: 15000\tTrue positives:  620\tFalse positives: 1406\tFalse negatives: 1380\tTrue negatives: 11594\n",
      "\n"
     ]
    }
   ],
   "source": [
    "#decision tree using 4 features,5 features and 6 features\n",
    "dt = DecisionTreeClassifier(random_state=0)\n",
    "for i in [selected_features1,selected_features2,selected_features3]:\n",
    "    tester.test_classifier(dt,my_dataset,i)"
   ]
  },
  {
   "cell_type": "code",
   "execution_count": 132,
   "metadata": {},
   "outputs": [
    {
     "name": "stdout",
     "output_type": "stream",
     "text": [
      "RandomForestClassifier(bootstrap=True, class_weight=None, criterion='gini',\n",
      "            max_depth=None, max_features='auto', max_leaf_nodes=None,\n",
      "            min_impurity_split=1e-07, min_samples_leaf=1,\n",
      "            min_samples_split=2, min_weight_fraction_leaf=0.0,\n",
      "            n_estimators=10, n_jobs=1, oob_score=False, random_state=0,\n",
      "            verbose=0, warm_start=False)\n",
      "\tAccuracy: 0.86267\tPrecision: 0.46479\tRecall: 0.19800\tF1: 0.27770\tF2: 0.22368\n",
      "\tTotal predictions: 15000\tTrue positives:  396\tFalse positives:  456\tFalse negatives: 1604\tTrue negatives: 12544\n",
      "\n",
      "RandomForestClassifier(bootstrap=True, class_weight=None, criterion='gini',\n",
      "            max_depth=None, max_features='auto', max_leaf_nodes=None,\n",
      "            min_impurity_split=1e-07, min_samples_leaf=1,\n",
      "            min_samples_split=2, min_weight_fraction_leaf=0.0,\n",
      "            n_estimators=10, n_jobs=1, oob_score=False, random_state=0,\n",
      "            verbose=0, warm_start=False)\n",
      "\tAccuracy: 0.86213\tPrecision: 0.46180\tRecall: 0.20550\tF1: 0.28443\tF2: 0.23116\n",
      "\tTotal predictions: 15000\tTrue positives:  411\tFalse positives:  479\tFalse negatives: 1589\tTrue negatives: 12521\n",
      "\n",
      "RandomForestClassifier(bootstrap=True, class_weight=None, criterion='gini',\n",
      "            max_depth=None, max_features='auto', max_leaf_nodes=None,\n",
      "            min_impurity_split=1e-07, min_samples_leaf=1,\n",
      "            min_samples_split=2, min_weight_fraction_leaf=0.0,\n",
      "            n_estimators=10, n_jobs=1, oob_score=False, random_state=0,\n",
      "            verbose=0, warm_start=False)\n",
      "\tAccuracy: 0.85753\tPrecision: 0.41970\tRecall: 0.17900\tF1: 0.25096\tF2: 0.20219\n",
      "\tTotal predictions: 15000\tTrue positives:  358\tFalse positives:  495\tFalse negatives: 1642\tTrue negatives: 12505\n",
      "\n"
     ]
    }
   ],
   "source": [
    "#random forest using 4 features,5 features and 6 features\n",
    "rf = RandomForestClassifier(random_state=0)\n",
    "for i in [selected_features1,selected_features2,selected_features3]:\n",
    "    tester.test_classifier(rf,my_dataset,i)"
   ]
  },
  {
   "cell_type": "markdown",
   "metadata": {},
   "source": [
    "**Here I tried three different algorithms, Naive Bayes, Decision Trees and Random Forest.     \n",
    "As well as feature selection. The selected_features are comprised of top important features selected by random forest model threshold is between 0.08-0.06.   \n",
    "The F1 score of selected_features2(6 features) is higher than selected_features1(4 features), while the score of selected_features3(5 features) is lower than selected_features1, indicated there is overfitting in selected_features2.   \n",
    "Therefore, I fixed with selected_features1(4 features) in the following work.**"
   ]
  },
  {
   "cell_type": "markdown",
   "metadata": {},
   "source": [
    "## Task 7 Parameter tuning for the classifier\n",
    "**According to the previous tries, I decided to use decision_tree classifier. Bacause decision_tree has the best baseline performance.With both precision and recall passed the udacity requirments already and has the highest F1 score**    \n",
    "\n",
    "**Parameter tuning** \n",
    "These hyperparamters are not learned from the data and must be predefined when using machine learning algorithms.They affect the performance of the model significantly and so finding the right values of hyperparameters is very important.  \n",
    "\n",
    "For parameter tuning,**'max_depth'** is a very important parameter for decision tree classifier, it indicates how deep the tree can be. The deeper the tree, the more splits it has and it can capture more information about the data.    \n",
    "The second parameter in turning is **'min_samples_split'**,it represents the minimun number of samples required to split an internal node.     \n",
    "Another parameter in turning is **'criterion'**,it represents the function to measure the quality of a split."
   ]
  },
  {
   "cell_type": "code",
   "execution_count": 43,
   "metadata": {
    "collapsed": true
   },
   "outputs": [],
   "source": [
    "from sklearn.cross_validation import StratifiedShuffleSplit\n",
    "from sklearn.grid_search import GridSearchCV"
   ]
  },
  {
   "cell_type": "code",
   "execution_count": 123,
   "metadata": {},
   "outputs": [
    {
     "name": "stdout",
     "output_type": "stream",
     "text": [
      "The best parameters are {'min_samples_split': 20, 'criterion': 'entropy', 'max_depth': 7} with a score of 0.4265\n"
     ]
    }
   ],
   "source": [
    "### Task 7: Tune your classifier to achieve better than .3 precision and recall \n",
    "### using our testing script. Check the tester.py script in the final project\n",
    "### folder for details on the evaluation method, especially the test_classifier\n",
    "### function. Because of the small size of the dataset, the script uses\n",
    "### stratified shuffle split cross validation. For more info: \n",
    "### http://scikit-learn.org/stable/modules/generated/sklearn.cross_validation.StratifiedShuffleSplit.html\n",
    "# Example starting point. Try investigating other evaluation techniques!\n",
    "\n",
    "# tune decision tree\n",
    "data = featureFormat(my_dataset, selected_features1, sort_keys=True)\n",
    "labels, features = targetFeatureSplit(data)\n",
    "\n",
    "# 1000 folds are used to make it as similar as possible to tester.py.\n",
    "folds = 1000\n",
    "decision_tree = DecisionTreeClassifier(random_state=0)\n",
    "dt_parameters = {'criterion':('gini','entropy'),\\\n",
    "                 'min_samples_split':(5,10,15,20), \\\n",
    "                 'max_depth':(5,7,10,20)}\n",
    "# store the split instance into cv and use it in the GridSearchCV.\n",
    "cv = StratifiedShuffleSplit(labels, folds,random_state=0)\n",
    "grid = GridSearchCV(decision_tree, dt_parameters, cv=cv, scoring='f1')\n",
    "grid.fit(features, labels)\n",
    "\n",
    "print(\"The best parameters are %s with a score of %0.4f\"\n",
    "      %(grid.best_params_, grid.best_score_))"
   ]
  },
  {
   "cell_type": "markdown",
   "metadata": {},
   "source": [
    "## Task 8 Validation and evaluation\n",
    "#### Evaluation metrics:\n",
    "The commonly used metrices for a machine learning project are accuracy, precision, recall, F1 score and etc. In this project, since the dataset is highly imbalanced, there are much more nonPOIs than POIs. Accuracy measures the percentage of the data points that are correctly predicted as either POI or nonPOI, so here accuracy is not a good metric.Precision and recall are more important metrics. Precision is positive predictive value and recall is the true positive rate. F1 score depends on precision and recall.\n",
    "\n",
    "#### Validation:\n",
    "Validation is the process of evaluating the algorithm using a test set that has not been seen by the learning algorithm during training. Validation is the step after training to evaluate the true learning ability of the model. In this project, I used cross validation. Cross validation partitions the dataset into k bins of equal size and runs the experiments k times. During each experiment, it takes one of the bins as the test set and the rest (k - 1) bins as the training set. After running all experiments, it takes the average of the k experiment results. If the dataset is large enough and the class classification is rougly even, I would like to reserve a separate test set to test the final algorithm before final submissions. This will prevent the learning algorithm from memorizing the test data which leads to over-fitting.\n",
    "\n",
    "#### Algorithm performance:\n",
    "After training three different classifers and tuning parameters for one of them(decision tree), I got the optional parameters for decision_Tree classifer. With these parameters, the performance of the final algorithm selected(decision_tree classifer) is assessed by splitting the data into training and testing sets using stratified splitting. Since it can reserve the class distribution of samples, it is essential for an imbalanced dataset.  \n",
    "\n",
    "The final model achieved these metrics and meet Udacity's requirements for precision and recall.  \n",
    "**Accuracy:  0.85313**  \n",
    "**Precision: 0.45012**  \n",
    "**Recall:    0.45800**  \n",
    "**F1 score:  0.45403**  "
   ]
  },
  {
   "cell_type": "code",
   "execution_count": 136,
   "metadata": {},
   "outputs": [
    {
     "name": "stdout",
     "output_type": "stream",
     "text": [
      "DecisionTreeClassifier(class_weight=None, criterion='entropy', max_depth=7,\n",
      "            max_features=None, max_leaf_nodes=None,\n",
      "            min_impurity_split=1e-07, min_samples_leaf=1,\n",
      "            min_samples_split=20, min_weight_fraction_leaf=0.0,\n",
      "            presort=False, random_state=0, splitter='best')\n",
      "\tAccuracy: 0.85313\tPrecision: 0.45012\tRecall: 0.45800\tF1: 0.45403\tF2: 0.45640\n",
      "\tTotal predictions: 15000\tTrue positives:  916\tFalse positives: 1119\tFalse negatives: 1084\tTrue negatives: 11881\n",
      "\n"
     ]
    }
   ],
   "source": [
    "#decision tree model with optimal parametres\n",
    "dt_best = DecisionTreeClassifier(min_samples_split=20, criterion='entropy', max_depth=7,random_state=0)\n",
    "tester.test_classifier(dt_best,my_dataset,selected_features1)"
   ]
  },
  {
   "cell_type": "markdown",
   "metadata": {},
   "source": [
    "# Task 9 Dump the classifer and data"
   ]
  },
  {
   "cell_type": "code",
   "execution_count": 137,
   "metadata": {},
   "outputs": [
    {
     "name": "stdout",
     "output_type": "stream",
     "text": [
      "DecisionTreeClassifier(class_weight=None, criterion='entropy', max_depth=7,\n",
      "            max_features=None, max_leaf_nodes=None,\n",
      "            min_impurity_split=1e-07, min_samples_leaf=1,\n",
      "            min_samples_split=20, min_weight_fraction_leaf=0.0,\n",
      "            presort=False, random_state=0, splitter='best')\n",
      "\tAccuracy: 0.85313\tPrecision: 0.45012\tRecall: 0.45800\tF1: 0.45403\tF2: 0.45640\n",
      "\tTotal predictions: 15000\tTrue positives:  916\tFalse positives: 1119\tFalse negatives: 1084\tTrue negatives: 11881\n",
      "\n"
     ]
    }
   ],
   "source": [
    "dump_classifier_and_data(dt_best,my_dataset,selected_features1)\n",
    "tester.main()"
   ]
  }
 ],
 "metadata": {
  "kernelspec": {
   "display_name": "Python 2",
   "language": "python",
   "name": "python2"
  },
  "language_info": {
   "codemirror_mode": {
    "name": "ipython",
    "version": 2
   },
   "file_extension": ".py",
   "mimetype": "text/x-python",
   "name": "python",
   "nbconvert_exporter": "python",
   "pygments_lexer": "ipython2",
   "version": "2.7.13"
  }
 },
 "nbformat": 4,
 "nbformat_minor": 2
}
