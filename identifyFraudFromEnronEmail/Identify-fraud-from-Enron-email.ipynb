{
 "cells": [
  {
   "cell_type": "code",
   "execution_count": 164,
   "metadata": {
    "collapsed": true
   },
   "outputs": [],
   "source": [
    "from IPython.display import HTML"
   ]
  },
  {
   "cell_type": "code",
   "execution_count": 165,
   "metadata": {},
   "outputs": [
    {
     "data": {
      "text/html": [
       "<script>\n",
       "code_show=true; \n",
       "function code_toggle() {\n",
       " if (code_show){\n",
       " $('div.input').hide();\n",
       " } else {\n",
       " $('div.input').show();\n",
       " }\n",
       " code_show = !code_show\n",
       "} \n",
       "$( document ).ready(code_toggle);\n",
       "</script>\n",
       "The raw code for this IPython notebook is by default hidden for easier reading.\n",
       "To toggle on/off the raw code, click <a href=\"javascript:code_toggle()\">here</a>."
      ],
      "text/plain": [
       "<IPython.core.display.HTML object>"
      ]
     },
     "execution_count": 165,
     "metadata": {},
     "output_type": "execute_result"
    }
   ],
   "source": [
    "HTML('''<script>\n",
    "code_show=true; \n",
    "function code_toggle() {\n",
    " if (code_show){\n",
    " $('div.input').hide();\n",
    " } else {\n",
    " $('div.input').show();\n",
    " }\n",
    " code_show = !code_show\n",
    "} \n",
    "$( document ).ready(code_toggle);\n",
    "</script>\n",
    "The raw code for this IPython notebook is by default hidden for easier reading.\n",
    "To toggle on/off the raw code, click <a href=\"javascript:code_toggle()\">here</a>.''')"
   ]
  },
  {
   "cell_type": "markdown",
   "metadata": {},
   "source": [
    "## Identify Fraud From Enron Email\n",
    "### Project Overview\n",
    "\n",
    "#### Goal\n",
    "Using machine learning skills to build an algorithm to identify Enron Employees who may have committed fraud based on the public Enron financial and email dataset."
   ]
  },
  {
   "cell_type": "code",
   "execution_count": 4,
   "metadata": {},
   "outputs": [],
   "source": [
    "import sys\n",
    "import pickle\n",
    "import pprint\n",
    "import matplotlib.pyplot as plt\n",
    "import numpy as np\n",
    "import pandas as pd\n",
    "import tester\n",
    "sys.path.append(\"../tools/\")\n",
    "from feature_format import featureFormat, targetFeatureSplit\n",
    "from tester import dump_classifier_and_data\n",
    "import warnings\n",
    "warnings.filterwarnings('ignore')"
   ]
  },
  {
   "cell_type": "code",
   "execution_count": 5,
   "metadata": {
    "collapsed": true
   },
   "outputs": [],
   "source": [
    "%matplotlib inline"
   ]
  },
  {
   "cell_type": "code",
   "execution_count": 6,
   "metadata": {
    "collapsed": true
   },
   "outputs": [],
   "source": [
    "#Load the disctionary containing the dataset\n",
    "with open(\"final_project_dataset.pkl\", \"r\") as data_file:\n",
    "    data_dict = pickle.load(data_file)"
   ]
  },
  {
   "cell_type": "markdown",
   "metadata": {},
   "source": [
    "#### Overview of the dataset"
   ]
  },
  {
   "cell_type": "code",
   "execution_count": 7,
   "metadata": {},
   "outputs": [
    {
     "name": "stdout",
     "output_type": "stream",
     "text": [
      "total number of people in the dataset:  146\n",
      "Total features in the dataset: \n",
      "['salary', 'to_messages', 'deferral_payments', 'total_payments', 'exercised_stock_options', 'bonus', 'restricted_stock', 'shared_receipt_with_poi', 'restricted_stock_deferred', 'total_stock_value', 'expenses', 'loan_advances', 'from_messages', 'other', 'from_this_person_to_poi', 'poi', 'director_fees', 'deferred_income', 'long_term_incentive', 'email_address', 'from_poi_to_this_person']\n",
      "poi is the label, the number of all other featuers in the dataset is:  20\n",
      "An example entry 'ALLEN PHILLIP K' in the dataset: \n",
      "{'salary': 201955, 'to_messages': 2902, 'deferral_payments': 2869717, 'total_payments': 4484442, 'exercised_stock_options': 1729541, 'bonus': 4175000, 'restricted_stock': 126027, 'shared_receipt_with_poi': 1407, 'restricted_stock_deferred': -126027, 'total_stock_value': 1729541, 'expenses': 13868, 'loan_advances': 'NaN', 'from_messages': 2195, 'other': 152, 'from_this_person_to_poi': 65, 'poi': False, 'director_fees': 'NaN', 'deferred_income': -3081055, 'long_term_incentive': 304805, 'email_address': 'phillip.allen@enron.com', 'from_poi_to_this_person': 47}\n",
      "The number of poi: 18\n",
      "The percentage of poi is 12.33%.\n"
     ]
    }
   ],
   "source": [
    "def exploration_data(data_dict):\n",
    "    total_people = len(data_dict)\n",
    "    print \"total number of people in the dataset: \", total_people\n",
    "    \n",
    "    number_features = len(data_dict[\"ALLEN PHILLIP K\"])\n",
    "    total_features = data_dict[\"ALLEN PHILLIP K\"].keys()\n",
    "    print \"Total features in the dataset: \"\n",
    "    print total_features\n",
    "    print \"poi is the label, the number of all other featuers in the dataset is: \", number_features-1\n",
    "    print \"An example entry 'ALLEN PHILLIP K' in the dataset: \"\n",
    "    print data_dict[\"ALLEN PHILLIP K\"]\n",
    "    \n",
    "    #check for the poi\n",
    "    total_poi = 0\n",
    "    for k in data_dict:\n",
    "        if data_dict[k][\"poi\"] == True:\n",
    "            total_poi+=1\n",
    "    print \"The number of poi:\", total_poi\n",
    "    print \"The percentage of poi is {:0.2f}%.\".format(100.00*total_poi/total_people)\n",
    "    \n",
    "exploration_data(data_dict)"
   ]
  },
  {
   "cell_type": "markdown",
   "metadata": {},
   "source": [
    "#### Outliers\n",
    "After visualizating the \"Salary\" and \"Bonus\", one huge number popped out. Checked the keys of the dataset, I found one key \"Total\" with big number of \"salary\" and \"bonus\", is the sum of all other person.This is an outlier."
   ]
  },
  {
   "cell_type": "code",
   "execution_count": 12,
   "metadata": {},
   "outputs": [
    {
     "data": {
      "image/png": "[encoded data removed]",
      "text/plain": [
       "<matplotlib.figure.Figure at 0xcdd64a8>"
      ]
     },
     "metadata": {},
     "output_type": "display_data"
    }
   ],
   "source": [
    "#check for outliers in dataset and remove these outliers\n",
    "\n",
    "def plot_data(data_dict,f1,f2):\n",
    "    features = [f1,f2]\n",
    "    data = featureFormat(data_dict,features)\n",
    "    \n",
    "    #data visulization\n",
    "    for point in data:\n",
    "        arr1 = point[0]\n",
    "        arr2 = point[1]\n",
    "        plt.scatter(arr1,arr2)\n",
    "    \n",
    "    plt.xlabel(f1)\n",
    "    plt.ylabel(f2)\n",
    "    \n",
    "    plt.show()\n",
    "       \n",
    "plot_data(data_dict,\"salary\",\"bonus\")"
   ]
  },
  {
   "cell_type": "markdown",
   "metadata": {},
   "source": [
    "**Remove this outlier \"Total\"**"
   ]
  },
  {
   "cell_type": "code",
   "execution_count": 14,
   "metadata": {},
   "outputs": [
    {
     "data": {
      "text/plain": [
       "{'bonus': 97343619,\n",
       " 'deferral_payments': 32083396,\n",
       " 'deferred_income': -27992891,\n",
       " 'director_fees': 1398517,\n",
       " 'email_address': 'NaN',\n",
       " 'exercised_stock_options': 311764000,\n",
       " 'expenses': 5235198,\n",
       " 'from_messages': 'NaN',\n",
       " 'from_poi_to_this_person': 'NaN',\n",
       " 'from_this_person_to_poi': 'NaN',\n",
       " 'loan_advances': 83925000,\n",
       " 'long_term_incentive': 48521928,\n",
       " 'other': 42667589,\n",
       " 'poi': False,\n",
       " 'restricted_stock': 130322299,\n",
       " 'restricted_stock_deferred': -7576788,\n",
       " 'salary': 26704229,\n",
       " 'shared_receipt_with_poi': 'NaN',\n",
       " 'to_messages': 'NaN',\n",
       " 'total_payments': 309886585,\n",
       " 'total_stock_value': 434509511}"
      ]
     },
     "execution_count": 14,
     "metadata": {},
     "output_type": "execute_result"
    }
   ],
   "source": [
    "#Check the keys and the outlier could be the total key\n",
    "#Total is the sum of all salary and bonus\n",
    "#pop will change the dictonary\n",
    "data_dict.pop(\"TOTAL\",0)"
   ]
  },
  {
   "cell_type": "markdown",
   "metadata": {},
   "source": [
    "**Plot the dataset after outlier removal, although there are four other big numbers in the plot, there is no extreme plot left.**"
   ]
  },
  {
   "cell_type": "code",
   "execution_count": 15,
   "metadata": {},
   "outputs": [
    {
     "data": {
      "image/png": "[encoded data removed]",
      "text/plain": [
       "<matplotlib.figure.Figure at 0xd199278>"
      ]
     },
     "metadata": {},
     "output_type": "display_data"
    }
   ],
   "source": [
    "#check the dataset after outlier removal\n",
    "plot_data(data_dict,\"salary\",\"bonus\")"
   ]
  },
  {
   "cell_type": "markdown",
   "metadata": {},
   "source": [
    "**Explore keys further to check if there are other unapproporate data points in dataset **"
   ]
  },
  {
   "cell_type": "code",
   "execution_count": 16,
   "metadata": {},
   "outputs": [
    {
     "name": "stdout",
     "output_type": "stream",
     "text": [
      "['ALLEN PHILLIP K',\n",
      " 'BADUM JAMES P',\n",
      " 'BANNANTINE JAMES M',\n",
      " 'BAXTER JOHN C',\n",
      " 'BAY FRANKLIN R',\n",
      " 'BAZELIDES PHILIP J',\n",
      " 'BECK SALLY W',\n",
      " 'BELDEN TIMOTHY N',\n",
      " 'BELFER ROBERT',\n",
      " 'BERBERIAN DAVID',\n",
      " 'BERGSIEKER RICHARD P',\n",
      " 'BHATNAGAR SANJAY',\n",
      " 'BIBI PHILIPPE A',\n",
      " 'BLACHMAN JEREMY M',\n",
      " 'BLAKE JR. NORMAN P',\n",
      " 'BOWEN JR RAYMOND M',\n",
      " 'BROWN MICHAEL',\n",
      " 'BUCHANAN HAROLD G',\n",
      " 'BUTTS ROBERT H',\n",
      " 'BUY RICHARD B',\n",
      " 'CALGER CHRISTOPHER F',\n",
      " 'CARTER REBECCA C',\n",
      " 'CAUSEY RICHARD A',\n",
      " 'CHAN RONNIE',\n",
      " 'CHRISTODOULOU DIOMEDES',\n",
      " 'CLINE KENNETH W',\n",
      " 'COLWELL WESLEY',\n",
      " 'CORDES WILLIAM R',\n",
      " 'COX DAVID',\n",
      " 'CUMBERLAND MICHAEL S',\n",
      " 'DEFFNER JOSEPH M',\n",
      " 'DELAINEY DAVID W',\n",
      " 'DERRICK JR. JAMES V',\n",
      " 'DETMERING TIMOTHY J',\n",
      " 'DIETRICH JANET R',\n",
      " 'DIMICHELE RICHARD G',\n",
      " 'DODSON KEITH',\n",
      " 'DONAHUE JR JEFFREY M',\n",
      " 'DUNCAN JOHN H',\n",
      " 'DURAN WILLIAM D',\n",
      " 'ECHOLS JOHN B',\n",
      " 'ELLIOTT STEVEN',\n",
      " 'FALLON JAMES B',\n",
      " 'FASTOW ANDREW S',\n",
      " 'FITZGERALD JAY L',\n",
      " 'FOWLER PEGGY',\n",
      " 'FOY JOE',\n",
      " 'FREVERT MARK A',\n",
      " 'FUGH JOHN L',\n",
      " 'GAHN ROBERT S',\n",
      " 'GARLAND C KEVIN',\n",
      " 'GATHMANN WILLIAM D',\n",
      " 'GIBBS DANA R',\n",
      " 'GILLIS JOHN',\n",
      " 'GLISAN JR BEN F',\n",
      " 'GOLD JOSEPH',\n",
      " 'GRAMM WENDY L',\n",
      " 'GRAY RODNEY',\n",
      " 'HAEDICKE MARK E',\n",
      " 'HANNON KEVIN P',\n",
      " 'HAUG DAVID L',\n",
      " 'HAYES ROBERT E',\n",
      " 'HAYSLETT RODERICK J',\n",
      " 'HERMANN ROBERT J',\n",
      " 'HICKERSON GARY J',\n",
      " 'HIRKO JOSEPH',\n",
      " 'HORTON STANLEY C',\n",
      " 'HUGHES JAMES A',\n",
      " 'HUMPHREY GENE E',\n",
      " 'IZZO LAWRENCE L',\n",
      " 'JACKSON CHARLENE R',\n",
      " 'JAEDICKE ROBERT',\n",
      " 'KAMINSKI WINCENTY J',\n",
      " 'KEAN STEVEN J',\n",
      " 'KISHKILL JOSEPH G',\n",
      " 'KITCHEN LOUISE',\n",
      " 'KOENIG MARK E',\n",
      " 'KOPPER MICHAEL J',\n",
      " 'LAVORATO JOHN J',\n",
      " 'LAY KENNETH L',\n",
      " 'LEFF DANIEL P',\n",
      " 'LEMAISTRE CHARLES',\n",
      " 'LEWIS RICHARD',\n",
      " 'LINDHOLM TOD A',\n",
      " 'LOCKHART EUGENE E',\n",
      " 'LOWRY CHARLES P',\n",
      " 'MARTIN AMANDA K',\n",
      " 'MCCARTY DANNY J',\n",
      " 'MCCLELLAN GEORGE',\n",
      " 'MCCONNELL MICHAEL S',\n",
      " 'MCDONALD REBECCA',\n",
      " 'MCMAHON JEFFREY',\n",
      " 'MENDELSOHN JOHN',\n",
      " 'METTS MARK',\n",
      " 'MEYER JEROME J',\n",
      " 'MEYER ROCKFORD G',\n",
      " 'MORAN MICHAEL P',\n",
      " 'MORDAUNT KRISTINA M',\n",
      " 'MULLER MARK S',\n",
      " 'MURRAY JULIA H',\n",
      " 'NOLES JAMES L',\n",
      " 'OLSON CINDY K',\n",
      " 'OVERDYKE JR JERE C',\n",
      " 'PAI LOU L',\n",
      " 'PEREIRA PAULO V. FERRAZ',\n",
      " 'PICKERING MARK R',\n",
      " 'PIPER GREGORY F',\n",
      " 'PIRO JIM',\n",
      " 'POWERS WILLIAM',\n",
      " 'PRENTICE JAMES',\n",
      " 'REDMOND BRIAN L',\n",
      " 'REYNOLDS LAWRENCE',\n",
      " 'RICE KENNETH D',\n",
      " 'RIEKER PAULA H',\n",
      " 'SAVAGE FRANK',\n",
      " 'SCRIMSHAW MATTHEW',\n",
      " 'SHANKMAN JEFFREY A',\n",
      " 'SHAPIRO RICHARD S',\n",
      " 'SHARP VICTORIA T',\n",
      " 'SHELBY REX',\n",
      " 'SHERRICK JEFFREY B',\n",
      " 'SHERRIFF JOHN R',\n",
      " 'SKILLING JEFFREY K',\n",
      " 'STABLER FRANK',\n",
      " 'SULLIVAN-SHAKLOVITZ COLLEEN',\n",
      " 'SUNDE MARTIN',\n",
      " 'TAYLOR MITCHELL S',\n",
      " 'THE TRAVEL AGENCY IN THE PARK',\n",
      " 'THORN TERENCE H',\n",
      " 'TILNEY ELIZABETH A',\n",
      " 'UMANOFF ADAM S',\n",
      " 'URQUHART JOHN A',\n",
      " 'WAKEHAM JOHN',\n",
      " 'WALLS JR ROBERT H',\n",
      " 'WALTERS GARETH W',\n",
      " 'WASAFF GEORGE',\n",
      " 'WESTFAHL RICHARD K',\n",
      " 'WHALEY DAVID A',\n",
      " 'WHALLEY LAWRENCE G',\n",
      " 'WHITE JR THOMAS E',\n",
      " 'WINOKUR JR. HERBERT S',\n",
      " 'WODRASKA JOHN',\n",
      " 'WROBEL BRUCE',\n",
      " 'YEAGER F SCOTT',\n",
      " 'YEAP SOON']\n"
     ]
    }
   ],
   "source": [
    "#explore other keys\n",
    "keys = []\n",
    "for k in data_dict:\n",
    "    keys.append(k)\n",
    "\n",
    "pprint.pprint(sorted(keys))\n"
   ]
  },
  {
   "cell_type": "markdown",
   "metadata": {},
   "source": [
    "**Easily find \"THE TRAVEL AGENCY IN THE PARK\" is not a name  \n",
    "Remove this confusing key**"
   ]
  },
  {
   "cell_type": "code",
   "execution_count": 17,
   "metadata": {},
   "outputs": [
    {
     "data": {
      "text/plain": [
       "{'bonus': 'NaN',\n",
       " 'deferral_payments': 'NaN',\n",
       " 'deferred_income': 'NaN',\n",
       " 'director_fees': 'NaN',\n",
       " 'email_address': 'NaN',\n",
       " 'exercised_stock_options': 'NaN',\n",
       " 'expenses': 'NaN',\n",
       " 'from_messages': 'NaN',\n",
       " 'from_poi_to_this_person': 'NaN',\n",
       " 'from_this_person_to_poi': 'NaN',\n",
       " 'loan_advances': 'NaN',\n",
       " 'long_term_incentive': 'NaN',\n",
       " 'other': 362096,\n",
       " 'poi': False,\n",
       " 'restricted_stock': 'NaN',\n",
       " 'restricted_stock_deferred': 'NaN',\n",
       " 'salary': 'NaN',\n",
       " 'shared_receipt_with_poi': 'NaN',\n",
       " 'to_messages': 'NaN',\n",
       " 'total_payments': 362096,\n",
       " 'total_stock_value': 'NaN'}"
      ]
     },
     "execution_count": 17,
     "metadata": {},
     "output_type": "execute_result"
    }
   ],
   "source": [
    "#remove outlier\n",
    "data_dict.pop('THE TRAVEL AGENCY IN THE PARK',0)"
   ]
  },
  {
   "cell_type": "markdown",
   "metadata": {},
   "source": [
    "#### Check the dataset after outliers removal"
   ]
  },
  {
   "cell_type": "code",
   "execution_count": 18,
   "metadata": {},
   "outputs": [
    {
     "name": "stdout",
     "output_type": "stream",
     "text": [
      "total number of people in the dataset:  144\n",
      "Total features in the dataset: \n",
      "['salary', 'to_messages', 'deferral_payments', 'total_payments', 'exercised_stock_options', 'bonus', 'restricted_stock', 'shared_receipt_with_poi', 'restricted_stock_deferred', 'total_stock_value', 'expenses', 'loan_advances', 'from_messages', 'other', 'from_this_person_to_poi', 'poi', 'director_fees', 'deferred_income', 'long_term_incentive', 'email_address', 'from_poi_to_this_person']\n",
      "poi is the label, the number of all other featuers in the dataset is:  20\n",
      "An example entry 'ALLEN PHILLIP K' in the dataset: \n",
      "{'salary': 201955, 'to_messages': 2902, 'deferral_payments': 2869717, 'total_payments': 4484442, 'exercised_stock_options': 1729541, 'bonus': 4175000, 'restricted_stock': 126027, 'shared_receipt_with_poi': 1407, 'restricted_stock_deferred': -126027, 'total_stock_value': 1729541, 'expenses': 13868, 'loan_advances': 'NaN', 'from_messages': 2195, 'other': 152, 'from_this_person_to_poi': 65, 'poi': False, 'director_fees': 'NaN', 'deferred_income': -3081055, 'long_term_incentive': 304805, 'email_address': 'phillip.allen@enron.com', 'from_poi_to_this_person': 47}\n",
      "The number of poi: 18\n",
      "The percentage of poi is 12.50%.\n"
     ]
    }
   ],
   "source": [
    "#check the dataset after outliers removal\n",
    "exploration_data(data_dict)"
   ]
  },
  {
   "cell_type": "markdown",
   "metadata": {},
   "source": [
    "#### Among these features, \"email_address\" is the feature related to people's name, so I excluded it from dataset.\n",
    "#### The email communication from/to POI should be the important features, so I created two new features \"from_poi_to_this_person_ratio\" and \"from_this_person_to_poi_ratio\"\n",
    "**In which:  \n",
    "from_poi_to_this_person_ratio = from_poi_to_this_person/to_message  \n",
    "from_this_person_to_poi_ratio = from_this_person_to_poi/from_message** "
   ]
  },
  {
   "cell_type": "code",
   "execution_count": 19,
   "metadata": {
    "collapsed": true
   },
   "outputs": [],
   "source": [
    "#feature engineering\n",
    "#remove feature \"email_address\"\n",
    "#create new features \"from_poi_to_this_person_ratio\" and \"from_this_person_to_poi_ratio\"\n",
    "for f in data_dict:\n",
    "    if data_dict[f][\"from_poi_to_this_person\"]!=\"NaN\":\n",
    "        data_dict[f][\"from_poi_to_this_person_ratio\"] = 1.0 * data_dict[f][\"from_poi_to_this_person\"]/data_dict[f][\"to_messages\"]\n",
    "    else:\n",
    "        data_dict[f][\"from_poi_to_this_person_ratio\"] = \"NaN\"\n",
    "        \n",
    "for f in data_dict:\n",
    "    if data_dict[f][\"from_this_person_to_poi\"]!=\"NaN\":\n",
    "        data_dict[f][\"from_this_person_to_poi_ratio\"] = 1.0 * data_dict[f][\"from_this_person_to_poi\"]/data_dict[f][\"from_messages\"]\n",
    "    else:\n",
    "        data_dict[f][\"from_this_person_to_poi_ratio\"] = \"NaN\"   \n",
    "        "
   ]
  },
  {
   "cell_type": "code",
   "execution_count": 20,
   "metadata": {
    "collapsed": true
   },
   "outputs": [],
   "source": [
    "#make the featurs_list\n",
    "features_list  = ['poi','total_payments','total_stock_value',\n",
    "                  'salary', 'deferral_payments', 'loan_advances', 'bonus', 'restricted_stock_deferred', 'deferred_income', \n",
    "                  'expenses', 'exercised_stock_options', 'other', 'long_term_incentive', 'restricted_stock', \n",
    "                  'director_fees','to_messages', 'from_poi_to_this_person', 'from_messages', 'from_this_person_to_poi', \n",
    "                  'shared_receipt_with_poi','from_poi_to_this_person_ratio','from_this_person_to_poi_ratio']"
   ]
  },
  {
   "cell_type": "markdown",
   "metadata": {},
   "source": [
    "#### To explore the dataset, I transformed the dictionary into a dataframe"
   ]
  },
  {
   "cell_type": "code",
   "execution_count": 22,
   "metadata": {},
   "outputs": [
    {
     "name": "stdout",
     "output_type": "stream",
     "text": [
      "This dataset has 144 rows and 22 columns\n"
     ]
    },
    {
     "data": {
      "text/html": [
       "<div>\n",
       "<style>\n",
       "    .dataframe thead tr:only-child th {\n",
       "        text-align: right;\n",
       "    }\n",
       "\n",
       "    .dataframe thead th {\n",
       "        text-align: left;\n",
       "    }\n",
       "\n",
       "    .dataframe tbody tr th {\n",
       "        vertical-align: top;\n",
       "    }\n",
       "</style>\n",
       "<table border=\"1\" class=\"dataframe\">\n",
       "  <thead>\n",
       "    <tr style=\"text-align: right;\">\n",
       "      <th></th>\n",
       "      <th>poi</th>\n",
       "      <th>total_payments</th>\n",
       "      <th>total_stock_value</th>\n",
       "      <th>salary</th>\n",
       "      <th>deferral_payments</th>\n",
       "      <th>loan_advances</th>\n",
       "      <th>bonus</th>\n",
       "      <th>restricted_stock_deferred</th>\n",
       "      <th>deferred_income</th>\n",
       "      <th>expenses</th>\n",
       "      <th>...</th>\n",
       "      <th>long_term_incentive</th>\n",
       "      <th>restricted_stock</th>\n",
       "      <th>director_fees</th>\n",
       "      <th>to_messages</th>\n",
       "      <th>from_poi_to_this_person</th>\n",
       "      <th>from_messages</th>\n",
       "      <th>from_this_person_to_poi</th>\n",
       "      <th>shared_receipt_with_poi</th>\n",
       "      <th>from_poi_to_this_person_ratio</th>\n",
       "      <th>from_this_person_to_poi_ratio</th>\n",
       "    </tr>\n",
       "  </thead>\n",
       "  <tbody>\n",
       "    <tr>\n",
       "      <th>ALLEN PHILLIP K</th>\n",
       "      <td>False</td>\n",
       "      <td>4484442.0</td>\n",
       "      <td>1729541.0</td>\n",
       "      <td>201955.0</td>\n",
       "      <td>2869717.0</td>\n",
       "      <td>NaN</td>\n",
       "      <td>4175000.0</td>\n",
       "      <td>-126027.0</td>\n",
       "      <td>-3081055.0</td>\n",
       "      <td>13868.0</td>\n",
       "      <td>...</td>\n",
       "      <td>304805.0</td>\n",
       "      <td>126027.0</td>\n",
       "      <td>NaN</td>\n",
       "      <td>2902.0</td>\n",
       "      <td>47.0</td>\n",
       "      <td>2195.0</td>\n",
       "      <td>65.0</td>\n",
       "      <td>1407.0</td>\n",
       "      <td>0.016196</td>\n",
       "      <td>0.029613</td>\n",
       "    </tr>\n",
       "    <tr>\n",
       "      <th>BADUM JAMES P</th>\n",
       "      <td>False</td>\n",
       "      <td>182466.0</td>\n",
       "      <td>257817.0</td>\n",
       "      <td>NaN</td>\n",
       "      <td>178980.0</td>\n",
       "      <td>NaN</td>\n",
       "      <td>NaN</td>\n",
       "      <td>NaN</td>\n",
       "      <td>NaN</td>\n",
       "      <td>3486.0</td>\n",
       "      <td>...</td>\n",
       "      <td>NaN</td>\n",
       "      <td>NaN</td>\n",
       "      <td>NaN</td>\n",
       "      <td>NaN</td>\n",
       "      <td>NaN</td>\n",
       "      <td>NaN</td>\n",
       "      <td>NaN</td>\n",
       "      <td>NaN</td>\n",
       "      <td>NaN</td>\n",
       "      <td>NaN</td>\n",
       "    </tr>\n",
       "    <tr>\n",
       "      <th>BANNANTINE JAMES M</th>\n",
       "      <td>False</td>\n",
       "      <td>916197.0</td>\n",
       "      <td>5243487.0</td>\n",
       "      <td>477.0</td>\n",
       "      <td>NaN</td>\n",
       "      <td>NaN</td>\n",
       "      <td>NaN</td>\n",
       "      <td>-560222.0</td>\n",
       "      <td>-5104.0</td>\n",
       "      <td>56301.0</td>\n",
       "      <td>...</td>\n",
       "      <td>NaN</td>\n",
       "      <td>1757552.0</td>\n",
       "      <td>NaN</td>\n",
       "      <td>566.0</td>\n",
       "      <td>39.0</td>\n",
       "      <td>29.0</td>\n",
       "      <td>0.0</td>\n",
       "      <td>465.0</td>\n",
       "      <td>0.068905</td>\n",
       "      <td>0.000000</td>\n",
       "    </tr>\n",
       "    <tr>\n",
       "      <th>BAXTER JOHN C</th>\n",
       "      <td>False</td>\n",
       "      <td>5634343.0</td>\n",
       "      <td>10623258.0</td>\n",
       "      <td>267102.0</td>\n",
       "      <td>1295738.0</td>\n",
       "      <td>NaN</td>\n",
       "      <td>1200000.0</td>\n",
       "      <td>NaN</td>\n",
       "      <td>-1386055.0</td>\n",
       "      <td>11200.0</td>\n",
       "      <td>...</td>\n",
       "      <td>1586055.0</td>\n",
       "      <td>3942714.0</td>\n",
       "      <td>NaN</td>\n",
       "      <td>NaN</td>\n",
       "      <td>NaN</td>\n",
       "      <td>NaN</td>\n",
       "      <td>NaN</td>\n",
       "      <td>NaN</td>\n",
       "      <td>NaN</td>\n",
       "      <td>NaN</td>\n",
       "    </tr>\n",
       "    <tr>\n",
       "      <th>BAY FRANKLIN R</th>\n",
       "      <td>False</td>\n",
       "      <td>827696.0</td>\n",
       "      <td>63014.0</td>\n",
       "      <td>239671.0</td>\n",
       "      <td>260455.0</td>\n",
       "      <td>NaN</td>\n",
       "      <td>400000.0</td>\n",
       "      <td>-82782.0</td>\n",
       "      <td>-201641.0</td>\n",
       "      <td>129142.0</td>\n",
       "      <td>...</td>\n",
       "      <td>NaN</td>\n",
       "      <td>145796.0</td>\n",
       "      <td>NaN</td>\n",
       "      <td>NaN</td>\n",
       "      <td>NaN</td>\n",
       "      <td>NaN</td>\n",
       "      <td>NaN</td>\n",
       "      <td>NaN</td>\n",
       "      <td>NaN</td>\n",
       "      <td>NaN</td>\n",
       "    </tr>\n",
       "  </tbody>\n",
       "</table>\n",
       "<p>5 rows × 22 columns</p>\n",
       "</div>"
      ],
      "text/plain": [
       "                      poi  total_payments  total_stock_value    salary  \\\n",
       "ALLEN PHILLIP K     False       4484442.0          1729541.0  201955.0   \n",
       "BADUM JAMES P       False        182466.0           257817.0       NaN   \n",
       "BANNANTINE JAMES M  False        916197.0          5243487.0     477.0   \n",
       "BAXTER JOHN C       False       5634343.0         10623258.0  267102.0   \n",
       "BAY FRANKLIN R      False        827696.0            63014.0  239671.0   \n",
       "\n",
       "                    deferral_payments  loan_advances      bonus  \\\n",
       "ALLEN PHILLIP K             2869717.0            NaN  4175000.0   \n",
       "BADUM JAMES P                178980.0            NaN        NaN   \n",
       "BANNANTINE JAMES M                NaN            NaN        NaN   \n",
       "BAXTER JOHN C               1295738.0            NaN  1200000.0   \n",
       "BAY FRANKLIN R               260455.0            NaN   400000.0   \n",
       "\n",
       "                    restricted_stock_deferred  deferred_income  expenses  \\\n",
       "ALLEN PHILLIP K                     -126027.0       -3081055.0   13868.0   \n",
       "BADUM JAMES P                             NaN              NaN    3486.0   \n",
       "BANNANTINE JAMES M                  -560222.0          -5104.0   56301.0   \n",
       "BAXTER JOHN C                             NaN       -1386055.0   11200.0   \n",
       "BAY FRANKLIN R                       -82782.0        -201641.0  129142.0   \n",
       "\n",
       "                                ...                long_term_incentive  \\\n",
       "ALLEN PHILLIP K                 ...                           304805.0   \n",
       "BADUM JAMES P                   ...                                NaN   \n",
       "BANNANTINE JAMES M              ...                                NaN   \n",
       "BAXTER JOHN C                   ...                          1586055.0   \n",
       "BAY FRANKLIN R                  ...                                NaN   \n",
       "\n",
       "                    restricted_stock  director_fees  to_messages  \\\n",
       "ALLEN PHILLIP K             126027.0            NaN       2902.0   \n",
       "BADUM JAMES P                    NaN            NaN          NaN   \n",
       "BANNANTINE JAMES M         1757552.0            NaN        566.0   \n",
       "BAXTER JOHN C              3942714.0            NaN          NaN   \n",
       "BAY FRANKLIN R              145796.0            NaN          NaN   \n",
       "\n",
       "                    from_poi_to_this_person  from_messages  \\\n",
       "ALLEN PHILLIP K                        47.0         2195.0   \n",
       "BADUM JAMES P                           NaN            NaN   \n",
       "BANNANTINE JAMES M                     39.0           29.0   \n",
       "BAXTER JOHN C                           NaN            NaN   \n",
       "BAY FRANKLIN R                          NaN            NaN   \n",
       "\n",
       "                    from_this_person_to_poi  shared_receipt_with_poi  \\\n",
       "ALLEN PHILLIP K                        65.0                   1407.0   \n",
       "BADUM JAMES P                           NaN                      NaN   \n",
       "BANNANTINE JAMES M                      0.0                    465.0   \n",
       "BAXTER JOHN C                           NaN                      NaN   \n",
       "BAY FRANKLIN R                          NaN                      NaN   \n",
       "\n",
       "                    from_poi_to_this_person_ratio  \\\n",
       "ALLEN PHILLIP K                          0.016196   \n",
       "BADUM JAMES P                                 NaN   \n",
       "BANNANTINE JAMES M                       0.068905   \n",
       "BAXTER JOHN C                                 NaN   \n",
       "BAY FRANKLIN R                                NaN   \n",
       "\n",
       "                    from_this_person_to_poi_ratio  \n",
       "ALLEN PHILLIP K                          0.029613  \n",
       "BADUM JAMES P                                 NaN  \n",
       "BANNANTINE JAMES M                       0.000000  \n",
       "BAXTER JOHN C                                 NaN  \n",
       "BAY FRANKLIN R                                NaN  \n",
       "\n",
       "[5 rows x 22 columns]"
      ]
     },
     "execution_count": 22,
     "metadata": {},
     "output_type": "execute_result"
    }
   ],
   "source": [
    "###df\n",
    "df = pd.DataFrame.from_dict(data_dict,orient=\"index\")\n",
    "df = df.replace(\"NaN\",np.nan)\n",
    "df = df[features_list]\n",
    "print \"This dataset has {} rows and {} columns\".format(df.shape[0],df.shape[1])\n",
    "df.head()"
   ]
  },
  {
   "cell_type": "markdown",
   "metadata": {},
   "source": [
    "**Checked the null value among the dataset  \n",
    "Caculated the total null values within each feature**"
   ]
  },
  {
   "cell_type": "code",
   "execution_count": 123,
   "metadata": {},
   "outputs": [
    {
     "data": {
      "text/plain": [
       "poi                                0\n",
       "total_payments                    21\n",
       "total_stock_value                 19\n",
       "salary                            50\n",
       "deferral_payments                106\n",
       "loan_advances                    141\n",
       "bonus                             63\n",
       "restricted_stock_deferred        127\n",
       "deferred_income                   96\n",
       "expenses                          50\n",
       "exercised_stock_options           43\n",
       "other                             53\n",
       "long_term_incentive               79\n",
       "restricted_stock                  35\n",
       "director_fees                    128\n",
       "to_messages                       58\n",
       "from_poi_to_this_person           58\n",
       "from_messages                     58\n",
       "from_this_person_to_poi           58\n",
       "shared_receipt_with_poi           58\n",
       "from_poi_to_this_person_ratio     58\n",
       "from_this_person_to_poi_ratio     58\n",
       "dtype: int64"
      ]
     },
     "execution_count": 123,
     "metadata": {},
     "output_type": "execute_result"
    }
   ],
   "source": [
    "#impute missing values\n",
    "df.isnull().sum()"
   ]
  },
  {
   "cell_type": "markdown",
   "metadata": {},
   "source": [
    "**Fillfulled these null values within financial features by 0  \n",
    "Fillfulled these null values within contact features by the mean **"
   ]
  },
  {
   "cell_type": "code",
   "execution_count": 25,
   "metadata": {
    "collapsed": true
   },
   "outputs": [],
   "source": [
    "#impute null financial features by 0\n",
    "df.loc[:,\"total_payments\":\"director_fees\"] = df.loc[:,\"total_payments\":\"director_fees\"].fillna(0)\n",
    "\n",
    "#impute null contact features by the mean\n",
    "df.loc[:,\"to_messages\":\"from_this_person_to_poi_ratio\"] = df.loc[:,\"to_messages\":\"from_this_person_to_poi_ratio\"].apply(lambda x: x.fillna(x.mean()),axis = 0)\n",
    "\n",
    "#df.loc[:,\"to_messages\":\"from_this_person_to_poi_ratio\"] = df.loc[:,\"to_messages\":\"from_this_person_to_poi_ratio\"].fillna(0)"
   ]
  },
  {
   "cell_type": "markdown",
   "metadata": {},
   "source": [
    "**Check the dataset again after null imputation **"
   ]
  },
  {
   "cell_type": "code",
   "execution_count": 26,
   "metadata": {},
   "outputs": [
    {
     "data": {
      "text/plain": [
       "poi                              0\n",
       "total_payments                   0\n",
       "total_stock_value                0\n",
       "salary                           0\n",
       "deferral_payments                0\n",
       "loan_advances                    0\n",
       "bonus                            0\n",
       "restricted_stock_deferred        0\n",
       "deferred_income                  0\n",
       "expenses                         0\n",
       "exercised_stock_options          0\n",
       "other                            0\n",
       "long_term_incentive              0\n",
       "restricted_stock                 0\n",
       "director_fees                    0\n",
       "to_messages                      0\n",
       "from_poi_to_this_person          0\n",
       "from_messages                    0\n",
       "from_this_person_to_poi          0\n",
       "shared_receipt_with_poi          0\n",
       "from_poi_to_this_person_ratio    0\n",
       "from_this_person_to_poi_ratio    0\n",
       "dtype: int64"
      ]
     },
     "execution_count": 26,
     "metadata": {},
     "output_type": "execute_result"
    }
   ],
   "source": [
    "#Check to see all null values are corrected\n",
    "df.isnull().sum()"
   ]
  },
  {
   "cell_type": "markdown",
   "metadata": {},
   "source": [
    "**Check the first 5 rows of the dataset**"
   ]
  },
  {
   "cell_type": "code",
   "execution_count": 27,
   "metadata": {},
   "outputs": [
    {
     "data": {
      "text/html": [
       "<div>\n",
       "<style>\n",
       "    .dataframe thead tr:only-child th {\n",
       "        text-align: right;\n",
       "    }\n",
       "\n",
       "    .dataframe thead th {\n",
       "        text-align: left;\n",
       "    }\n",
       "\n",
       "    .dataframe tbody tr th {\n",
       "        vertical-align: top;\n",
       "    }\n",
       "</style>\n",
       "<table border=\"1\" class=\"dataframe\">\n",
       "  <thead>\n",
       "    <tr style=\"text-align: right;\">\n",
       "      <th></th>\n",
       "      <th>poi</th>\n",
       "      <th>total_payments</th>\n",
       "      <th>total_stock_value</th>\n",
       "      <th>salary</th>\n",
       "      <th>deferral_payments</th>\n",
       "      <th>loan_advances</th>\n",
       "      <th>bonus</th>\n",
       "      <th>restricted_stock_deferred</th>\n",
       "      <th>deferred_income</th>\n",
       "      <th>expenses</th>\n",
       "      <th>...</th>\n",
       "      <th>long_term_incentive</th>\n",
       "      <th>restricted_stock</th>\n",
       "      <th>director_fees</th>\n",
       "      <th>to_messages</th>\n",
       "      <th>from_poi_to_this_person</th>\n",
       "      <th>from_messages</th>\n",
       "      <th>from_this_person_to_poi</th>\n",
       "      <th>shared_receipt_with_poi</th>\n",
       "      <th>from_poi_to_this_person_ratio</th>\n",
       "      <th>from_this_person_to_poi_ratio</th>\n",
       "    </tr>\n",
       "  </thead>\n",
       "  <tbody>\n",
       "    <tr>\n",
       "      <th>ALLEN PHILLIP K</th>\n",
       "      <td>False</td>\n",
       "      <td>4484442.0</td>\n",
       "      <td>1729541.0</td>\n",
       "      <td>201955.0</td>\n",
       "      <td>2869717.0</td>\n",
       "      <td>0.0</td>\n",
       "      <td>4175000.0</td>\n",
       "      <td>-126027.0</td>\n",
       "      <td>-3081055.0</td>\n",
       "      <td>13868.0</td>\n",
       "      <td>...</td>\n",
       "      <td>304805.0</td>\n",
       "      <td>126027.0</td>\n",
       "      <td>0.0</td>\n",
       "      <td>2902.000000</td>\n",
       "      <td>47.000000</td>\n",
       "      <td>2195.000000</td>\n",
       "      <td>65.000000</td>\n",
       "      <td>1407.000000</td>\n",
       "      <td>0.016196</td>\n",
       "      <td>0.029613</td>\n",
       "    </tr>\n",
       "    <tr>\n",
       "      <th>BADUM JAMES P</th>\n",
       "      <td>False</td>\n",
       "      <td>182466.0</td>\n",
       "      <td>257817.0</td>\n",
       "      <td>0.0</td>\n",
       "      <td>178980.0</td>\n",
       "      <td>0.0</td>\n",
       "      <td>0.0</td>\n",
       "      <td>0.0</td>\n",
       "      <td>0.0</td>\n",
       "      <td>3486.0</td>\n",
       "      <td>...</td>\n",
       "      <td>0.0</td>\n",
       "      <td>0.0</td>\n",
       "      <td>0.0</td>\n",
       "      <td>2073.860465</td>\n",
       "      <td>64.895349</td>\n",
       "      <td>608.790698</td>\n",
       "      <td>41.232558</td>\n",
       "      <td>1176.465116</td>\n",
       "      <td>0.037963</td>\n",
       "      <td>0.184055</td>\n",
       "    </tr>\n",
       "    <tr>\n",
       "      <th>BANNANTINE JAMES M</th>\n",
       "      <td>False</td>\n",
       "      <td>916197.0</td>\n",
       "      <td>5243487.0</td>\n",
       "      <td>477.0</td>\n",
       "      <td>0.0</td>\n",
       "      <td>0.0</td>\n",
       "      <td>0.0</td>\n",
       "      <td>-560222.0</td>\n",
       "      <td>-5104.0</td>\n",
       "      <td>56301.0</td>\n",
       "      <td>...</td>\n",
       "      <td>0.0</td>\n",
       "      <td>1757552.0</td>\n",
       "      <td>0.0</td>\n",
       "      <td>566.000000</td>\n",
       "      <td>39.000000</td>\n",
       "      <td>29.000000</td>\n",
       "      <td>0.000000</td>\n",
       "      <td>465.000000</td>\n",
       "      <td>0.068905</td>\n",
       "      <td>0.000000</td>\n",
       "    </tr>\n",
       "    <tr>\n",
       "      <th>BAXTER JOHN C</th>\n",
       "      <td>False</td>\n",
       "      <td>5634343.0</td>\n",
       "      <td>10623258.0</td>\n",
       "      <td>267102.0</td>\n",
       "      <td>1295738.0</td>\n",
       "      <td>0.0</td>\n",
       "      <td>1200000.0</td>\n",
       "      <td>0.0</td>\n",
       "      <td>-1386055.0</td>\n",
       "      <td>11200.0</td>\n",
       "      <td>...</td>\n",
       "      <td>1586055.0</td>\n",
       "      <td>3942714.0</td>\n",
       "      <td>0.0</td>\n",
       "      <td>2073.860465</td>\n",
       "      <td>64.895349</td>\n",
       "      <td>608.790698</td>\n",
       "      <td>41.232558</td>\n",
       "      <td>1176.465116</td>\n",
       "      <td>0.037963</td>\n",
       "      <td>0.184055</td>\n",
       "    </tr>\n",
       "    <tr>\n",
       "      <th>BAY FRANKLIN R</th>\n",
       "      <td>False</td>\n",
       "      <td>827696.0</td>\n",
       "      <td>63014.0</td>\n",
       "      <td>239671.0</td>\n",
       "      <td>260455.0</td>\n",
       "      <td>0.0</td>\n",
       "      <td>400000.0</td>\n",
       "      <td>-82782.0</td>\n",
       "      <td>-201641.0</td>\n",
       "      <td>129142.0</td>\n",
       "      <td>...</td>\n",
       "      <td>0.0</td>\n",
       "      <td>145796.0</td>\n",
       "      <td>0.0</td>\n",
       "      <td>2073.860465</td>\n",
       "      <td>64.895349</td>\n",
       "      <td>608.790698</td>\n",
       "      <td>41.232558</td>\n",
       "      <td>1176.465116</td>\n",
       "      <td>0.037963</td>\n",
       "      <td>0.184055</td>\n",
       "    </tr>\n",
       "  </tbody>\n",
       "</table>\n",
       "<p>5 rows × 22 columns</p>\n",
       "</div>"
      ],
      "text/plain": [
       "                      poi  total_payments  total_stock_value    salary  \\\n",
       "ALLEN PHILLIP K     False       4484442.0          1729541.0  201955.0   \n",
       "BADUM JAMES P       False        182466.0           257817.0       0.0   \n",
       "BANNANTINE JAMES M  False        916197.0          5243487.0     477.0   \n",
       "BAXTER JOHN C       False       5634343.0         10623258.0  267102.0   \n",
       "BAY FRANKLIN R      False        827696.0            63014.0  239671.0   \n",
       "\n",
       "                    deferral_payments  loan_advances      bonus  \\\n",
       "ALLEN PHILLIP K             2869717.0            0.0  4175000.0   \n",
       "BADUM JAMES P                178980.0            0.0        0.0   \n",
       "BANNANTINE JAMES M                0.0            0.0        0.0   \n",
       "BAXTER JOHN C               1295738.0            0.0  1200000.0   \n",
       "BAY FRANKLIN R               260455.0            0.0   400000.0   \n",
       "\n",
       "                    restricted_stock_deferred  deferred_income  expenses  \\\n",
       "ALLEN PHILLIP K                     -126027.0       -3081055.0   13868.0   \n",
       "BADUM JAMES P                             0.0              0.0    3486.0   \n",
       "BANNANTINE JAMES M                  -560222.0          -5104.0   56301.0   \n",
       "BAXTER JOHN C                             0.0       -1386055.0   11200.0   \n",
       "BAY FRANKLIN R                       -82782.0        -201641.0  129142.0   \n",
       "\n",
       "                                ...                long_term_incentive  \\\n",
       "ALLEN PHILLIP K                 ...                           304805.0   \n",
       "BADUM JAMES P                   ...                                0.0   \n",
       "BANNANTINE JAMES M              ...                                0.0   \n",
       "BAXTER JOHN C                   ...                          1586055.0   \n",
       "BAY FRANKLIN R                  ...                                0.0   \n",
       "\n",
       "                    restricted_stock  director_fees  to_messages  \\\n",
       "ALLEN PHILLIP K             126027.0            0.0  2902.000000   \n",
       "BADUM JAMES P                    0.0            0.0  2073.860465   \n",
       "BANNANTINE JAMES M         1757552.0            0.0   566.000000   \n",
       "BAXTER JOHN C              3942714.0            0.0  2073.860465   \n",
       "BAY FRANKLIN R              145796.0            0.0  2073.860465   \n",
       "\n",
       "                    from_poi_to_this_person  from_messages  \\\n",
       "ALLEN PHILLIP K                   47.000000    2195.000000   \n",
       "BADUM JAMES P                     64.895349     608.790698   \n",
       "BANNANTINE JAMES M                39.000000      29.000000   \n",
       "BAXTER JOHN C                     64.895349     608.790698   \n",
       "BAY FRANKLIN R                    64.895349     608.790698   \n",
       "\n",
       "                    from_this_person_to_poi  shared_receipt_with_poi  \\\n",
       "ALLEN PHILLIP K                   65.000000              1407.000000   \n",
       "BADUM JAMES P                     41.232558              1176.465116   \n",
       "BANNANTINE JAMES M                 0.000000               465.000000   \n",
       "BAXTER JOHN C                     41.232558              1176.465116   \n",
       "BAY FRANKLIN R                    41.232558              1176.465116   \n",
       "\n",
       "                    from_poi_to_this_person_ratio  \\\n",
       "ALLEN PHILLIP K                          0.016196   \n",
       "BADUM JAMES P                            0.037963   \n",
       "BANNANTINE JAMES M                       0.068905   \n",
       "BAXTER JOHN C                            0.037963   \n",
       "BAY FRANKLIN R                           0.037963   \n",
       "\n",
       "                    from_this_person_to_poi_ratio  \n",
       "ALLEN PHILLIP K                          0.029613  \n",
       "BADUM JAMES P                            0.184055  \n",
       "BANNANTINE JAMES M                       0.000000  \n",
       "BAXTER JOHN C                            0.184055  \n",
       "BAY FRANKLIN R                           0.184055  \n",
       "\n",
       "[5 rows x 22 columns]"
      ]
     },
     "execution_count": 27,
     "metadata": {},
     "output_type": "execute_result"
    }
   ],
   "source": [
    "df.head()"
   ]
  },
  {
   "cell_type": "code",
   "execution_count": 28,
   "metadata": {},
   "outputs": [
    {
     "name": "stdout",
     "output_type": "stream",
     "text": [
      "There are 144 people in this dataset\n"
     ]
    }
   ],
   "source": [
    "#Store to my_dataset for easy export below\n",
    "my_dataset = df.to_dict(orient = \"index\")\n",
    "print \"There are {} people in this dataset\".format(len(my_dataset))"
   ]
  },
  {
   "cell_type": "code",
   "execution_count": 59,
   "metadata": {
    "collapsed": true
   },
   "outputs": [],
   "source": [
    "#extract features and labels from dataset for testing\n",
    "data = featureFormat(my_dataset,features_list,sort_keys=True)"
   ]
  },
  {
   "cell_type": "code",
   "execution_count": 30,
   "metadata": {
    "collapsed": true
   },
   "outputs": [],
   "source": [
    "labels,features = targetFeatureSplit(data)"
   ]
  },
  {
   "cell_type": "code",
   "execution_count": 60,
   "metadata": {},
   "outputs": [
    {
     "data": {
      "text/plain": [
       "(144L, 22L)"
      ]
     },
     "execution_count": 60,
     "metadata": {},
     "output_type": "execute_result"
    }
   ],
   "source": [
    "data.shape"
   ]
  },
  {
   "cell_type": "markdown",
   "metadata": {},
   "source": [
    "**Select features using random forest**"
   ]
  },
  {
   "cell_type": "code",
   "execution_count": 31,
   "metadata": {},
   "outputs": [
    {
     "name": "stdout",
     "output_type": "stream",
     "text": [
      "RandomForestClassifier(bootstrap=True, class_weight=None, criterion='gini',\n",
      "            max_depth=None, max_features='auto', max_leaf_nodes=None,\n",
      "            min_impurity_split=1e-07, min_samples_leaf=1,\n",
      "            min_samples_split=2, min_weight_fraction_leaf=0.0,\n",
      "            n_estimators=10, n_jobs=1, oob_score=False, random_state=42,\n",
      "            verbose=0, warm_start=False)\n",
      "\tAccuracy: 0.86220\tPrecision: 0.44351\tRecall: 0.13150\tF1: 0.20285\tF2: 0.15303\n",
      "\tTotal predictions: 15000\tTrue positives:  263\tFalse positives:  330\tFalse negatives: 1737\tTrue negatives: 12670\n",
      "\n"
     ]
    }
   ],
   "source": [
    "#select features using random forest\n",
    "from sklearn.ensemble import RandomForestClassifier\n",
    "clf = RandomForestClassifier(random_state=42)\n",
    "tester.test_classifier(clf, my_dataset,features_list)"
   ]
  },
  {
   "cell_type": "markdown",
   "metadata": {},
   "source": [
    "**List the feature importance**"
   ]
  },
  {
   "cell_type": "code",
   "execution_count": 35,
   "metadata": {
    "collapsed": true
   },
   "outputs": [],
   "source": [
    "importances = clf.feature_importances_\n",
    "indices = np.argsort(importances)[::-1]\n",
    "\n",
    "features_list_new = sorted(zip(map(lambda x:round(x,4), clf.feature_importances_),features_list[1:]),reverse = True)"
   ]
  },
  {
   "cell_type": "code",
   "execution_count": 36,
   "metadata": {
    "collapsed": true
   },
   "outputs": [],
   "source": [
    "features_df = pd.DataFrame(features_list_new)\n",
    "features_df = features_df.rename(index = str, columns = {0:\"importance\",1:\"feature\"})"
   ]
  },
  {
   "cell_type": "code",
   "execution_count": 37,
   "metadata": {},
   "outputs": [
    {
     "data": {
      "text/html": [
       "<div>\n",
       "<style>\n",
       "    .dataframe thead tr:only-child th {\n",
       "        text-align: right;\n",
       "    }\n",
       "\n",
       "    .dataframe thead th {\n",
       "        text-align: left;\n",
       "    }\n",
       "\n",
       "    .dataframe tbody tr th {\n",
       "        vertical-align: top;\n",
       "    }\n",
       "</style>\n",
       "<table border=\"1\" class=\"dataframe\">\n",
       "  <thead>\n",
       "    <tr style=\"text-align: right;\">\n",
       "      <th></th>\n",
       "      <th>importance</th>\n",
       "      <th>feature</th>\n",
       "    </tr>\n",
       "  </thead>\n",
       "  <tbody>\n",
       "    <tr>\n",
       "      <th>0</th>\n",
       "      <td>0.1484</td>\n",
       "      <td>total_stock_value</td>\n",
       "    </tr>\n",
       "    <tr>\n",
       "      <th>1</th>\n",
       "      <td>0.1357</td>\n",
       "      <td>exercised_stock_options</td>\n",
       "    </tr>\n",
       "    <tr>\n",
       "      <th>2</th>\n",
       "      <td>0.1335</td>\n",
       "      <td>other</td>\n",
       "    </tr>\n",
       "    <tr>\n",
       "      <th>3</th>\n",
       "      <td>0.1013</td>\n",
       "      <td>from_this_person_to_poi_ratio</td>\n",
       "    </tr>\n",
       "    <tr>\n",
       "      <th>4</th>\n",
       "      <td>0.0843</td>\n",
       "      <td>bonus</td>\n",
       "    </tr>\n",
       "    <tr>\n",
       "      <th>5</th>\n",
       "      <td>0.0669</td>\n",
       "      <td>expenses</td>\n",
       "    </tr>\n",
       "    <tr>\n",
       "      <th>6</th>\n",
       "      <td>0.0514</td>\n",
       "      <td>total_payments</td>\n",
       "    </tr>\n",
       "    <tr>\n",
       "      <th>7</th>\n",
       "      <td>0.0441</td>\n",
       "      <td>from_this_person_to_poi</td>\n",
       "    </tr>\n",
       "    <tr>\n",
       "      <th>8</th>\n",
       "      <td>0.0427</td>\n",
       "      <td>from_poi_to_this_person_ratio</td>\n",
       "    </tr>\n",
       "    <tr>\n",
       "      <th>9</th>\n",
       "      <td>0.0420</td>\n",
       "      <td>salary</td>\n",
       "    </tr>\n",
       "    <tr>\n",
       "      <th>10</th>\n",
       "      <td>0.0417</td>\n",
       "      <td>shared_receipt_with_poi</td>\n",
       "    </tr>\n",
       "    <tr>\n",
       "      <th>11</th>\n",
       "      <td>0.0387</td>\n",
       "      <td>from_messages</td>\n",
       "    </tr>\n",
       "    <tr>\n",
       "      <th>12</th>\n",
       "      <td>0.0216</td>\n",
       "      <td>restricted_stock</td>\n",
       "    </tr>\n",
       "    <tr>\n",
       "      <th>13</th>\n",
       "      <td>0.0168</td>\n",
       "      <td>from_poi_to_this_person</td>\n",
       "    </tr>\n",
       "    <tr>\n",
       "      <th>14</th>\n",
       "      <td>0.0099</td>\n",
       "      <td>restricted_stock_deferred</td>\n",
       "    </tr>\n",
       "    <tr>\n",
       "      <th>15</th>\n",
       "      <td>0.0089</td>\n",
       "      <td>to_messages</td>\n",
       "    </tr>\n",
       "    <tr>\n",
       "      <th>16</th>\n",
       "      <td>0.0066</td>\n",
       "      <td>long_term_incentive</td>\n",
       "    </tr>\n",
       "    <tr>\n",
       "      <th>17</th>\n",
       "      <td>0.0056</td>\n",
       "      <td>deferred_income</td>\n",
       "    </tr>\n",
       "    <tr>\n",
       "      <th>18</th>\n",
       "      <td>0.0000</td>\n",
       "      <td>loan_advances</td>\n",
       "    </tr>\n",
       "    <tr>\n",
       "      <th>19</th>\n",
       "      <td>0.0000</td>\n",
       "      <td>director_fees</td>\n",
       "    </tr>\n",
       "    <tr>\n",
       "      <th>20</th>\n",
       "      <td>0.0000</td>\n",
       "      <td>deferral_payments</td>\n",
       "    </tr>\n",
       "  </tbody>\n",
       "</table>\n",
       "</div>"
      ],
      "text/plain": [
       "    importance                        feature\n",
       "0       0.1484              total_stock_value\n",
       "1       0.1357        exercised_stock_options\n",
       "2       0.1335                          other\n",
       "3       0.1013  from_this_person_to_poi_ratio\n",
       "4       0.0843                          bonus\n",
       "5       0.0669                       expenses\n",
       "6       0.0514                 total_payments\n",
       "7       0.0441        from_this_person_to_poi\n",
       "8       0.0427  from_poi_to_this_person_ratio\n",
       "9       0.0420                         salary\n",
       "10      0.0417        shared_receipt_with_poi\n",
       "11      0.0387                  from_messages\n",
       "12      0.0216               restricted_stock\n",
       "13      0.0168        from_poi_to_this_person\n",
       "14      0.0099      restricted_stock_deferred\n",
       "15      0.0089                    to_messages\n",
       "16      0.0066            long_term_incentive\n",
       "17      0.0056                deferred_income\n",
       "18      0.0000                  loan_advances\n",
       "19      0.0000                  director_fees\n",
       "20      0.0000              deferral_payments"
      ]
     },
     "execution_count": 37,
     "metadata": {},
     "output_type": "execute_result"
    }
   ],
   "source": [
    "features_df"
   ]
  },
  {
   "cell_type": "markdown",
   "metadata": {},
   "source": [
    "**Selected final features based on importance   \n",
    "In which  \n",
    "I selected \"exercised_stock_options\",\"exercised_stock_options\",\"other\" and \"from_this_person_to_poi_ratio\"**"
   ]
  },
  {
   "cell_type": "code",
   "execution_count": 120,
   "metadata": {
    "collapsed": true
   },
   "outputs": [],
   "source": [
    "selected_feaures = ['poi',\"total_stock_value\",\"exercised_stock_options\",\"other\",\"from_this_person_to_poi_ratio\"]"
   ]
  },
  {
   "cell_type": "code",
   "execution_count": 114,
   "metadata": {
    "collapsed": true
   },
   "outputs": [],
   "source": [
    "#Try a variaty of classifiers\n",
    "from sklearn.naive_bayes import GaussianNB\n",
    "from sklearn.tree import DecisionTreeClassifier\n",
    "from sklearn.ensemble import AdaBoostClassifier\n",
    "from sklearn.neighbors import KNeighborsClassifier\n",
    "from sklearn.ensemble import BaggingClassifier"
   ]
  },
  {
   "cell_type": "code",
   "execution_count": 121,
   "metadata": {
    "scrolled": true
   },
   "outputs": [
    {
     "name": "stdout",
     "output_type": "stream",
     "text": [
      "GaussianNB(priors=None)\n",
      "\tAccuracy: 0.85413\tPrecision: 0.41149\tRecall: 0.21850\tF1: 0.28543\tF2: 0.24112\n",
      "\tTotal predictions: 15000\tTrue positives:  437\tFalse positives:  625\tFalse negatives: 1563\tTrue negatives: 12375\n",
      "\n"
     ]
    }
   ],
   "source": [
    "#gaussian navie bays\n",
    "nb = GaussianNB()\n",
    "tester.test_classifier(nb, my_dataset,selected_feaures)"
   ]
  },
  {
   "cell_type": "markdown",
   "metadata": {},
   "source": [
    "GaussianNB(priors=None)\n",
    "\tAccuracy: 0.86167\tPrecision: 0.46968\tRecall: 0.29050\tF1: 0.35897\tF2: 0.31450\n",
    "\tTotal predictions: 15000\tTrue positives:  581\tFalse positives:  656\tFalse negatives: 1419\tTrue negatives: 12344"
   ]
  },
  {
   "cell_type": "code",
   "execution_count": 122,
   "metadata": {
    "scrolled": true
   },
   "outputs": [
    {
     "name": "stdout",
     "output_type": "stream",
     "text": [
      "DecisionTreeClassifier(class_weight=None, criterion='gini', max_depth=None,\n",
      "            max_features=None, max_leaf_nodes=None,\n",
      "            min_impurity_split=1e-07, min_samples_leaf=1,\n",
      "            min_samples_split=2, min_weight_fraction_leaf=0.0,\n",
      "            presort=False, random_state=None, splitter='best')\n",
      "\tAccuracy: 0.80533\tPrecision: 0.25427\tRecall: 0.23800\tF1: 0.24587\tF2: 0.24109\n",
      "\tTotal predictions: 15000\tTrue positives:  476\tFalse positives: 1396\tFalse negatives: 1524\tTrue negatives: 11604\n",
      "\n"
     ]
    }
   ],
   "source": [
    "#decision tree\n",
    "dt = DecisionTreeClassifier(min_samples_split=2)\n",
    "tester.test_classifier(dt,my_dataset,selected_feaures)"
   ]
  },
  {
   "cell_type": "markdown",
   "metadata": {},
   "source": [
    "DecisionTreeClassifier(class_weight=None, criterion='gini', max_depth=None,\n",
    "            max_features=None, max_leaf_nodes=None,\n",
    "            min_impurity_split=1e-07, min_samples_leaf=1,\n",
    "            min_samples_split=10, min_weight_fraction_leaf=0.0,\n",
    "            presort=False, random_state=None, splitter='best')\n",
    "\tAccuracy: 0.83207\tPrecision: 0.32916\tRecall: 0.25000\tF1: 0.28417\tF2: 0.26263\n",
    "\tTotal predictions: 15000\tTrue positives:  500\tFalse positives: 1019\tFalse negatives: 1500\tTrue negatives: 11981"
   ]
  },
  {
   "cell_type": "code",
   "execution_count": 124,
   "metadata": {},
   "outputs": [
    {
     "name": "stdout",
     "output_type": "stream",
     "text": [
      "RandomForestClassifier(bootstrap=True, class_weight=None, criterion='gini',\n",
      "            max_depth=None, max_features='auto', max_leaf_nodes=None,\n",
      "            min_impurity_split=1e-07, min_samples_leaf=1,\n",
      "            min_samples_split=10, min_weight_fraction_leaf=0.0,\n",
      "            n_estimators=10, n_jobs=1, oob_score=False, random_state=None,\n",
      "            verbose=0, warm_start=False)\n",
      "\tAccuracy: 0.85900\tPrecision: 0.44041\tRecall: 0.21250\tF1: 0.28668\tF2: 0.23703\n",
      "\tTotal predictions: 15000\tTrue positives:  425\tFalse positives:  540\tFalse negatives: 1575\tTrue negatives: 12460\n",
      "\n"
     ]
    }
   ],
   "source": [
    "#random forest\n",
    "rf = RandomForestClassifier(min_samples_split=10)\n",
    "tester.test_classifier(rf,my_dataset,selected_feaures)"
   ]
  },
  {
   "cell_type": "markdown",
   "metadata": {},
   "source": [
    "RandomForestClassifier(bootstrap=True, class_weight=None, criterion='gini',\n",
    "            max_depth=None, max_features='auto', max_leaf_nodes=None,\n",
    "            min_impurity_split=1e-07, min_samples_leaf=1,\n",
    "            min_samples_split=10, min_weight_fraction_leaf=0.0,\n",
    "            n_estimators=10, n_jobs=1, oob_score=False, random_state=None,\n",
    "            verbose=0, warm_start=False)\n",
    "\tAccuracy: 0.87893\tPrecision: 0.59200\tRecall: 0.29600\tF1: 0.39467\tF2: 0.32889\n",
    "\tTotal predictions: 15000\tTrue positives:  592\tFalse positives:  408\tFalse negatives: 1408\tTrue negatives: 12592"
   ]
  },
  {
   "cell_type": "code",
   "execution_count": 43,
   "metadata": {},
   "outputs": [
    {
     "name": "stdout",
     "output_type": "stream",
     "text": [
      "BaggingClassifier(base_estimator=KNeighborsClassifier(algorithm='auto', leaf_size=30, metric='minkowski',\n",
      "           metric_params=None, n_jobs=1, n_neighbors=5, p=2,\n",
      "           weights='uniform'),\n",
      "         bootstrap=True, bootstrap_features=False, max_features=0.5,\n",
      "         max_samples=0.5, n_estimators=10, n_jobs=1, oob_score=False,\n",
      "         random_state=None, verbose=0, warm_start=False)\n",
      "\tAccuracy: 0.86793\tPrecision: 0.95238\tRecall: 0.01000\tF1: 0.01979\tF2: 0.01247\n",
      "\tTotal predictions: 15000\tTrue positives:   20\tFalse positives:    1\tFalse negatives: 1980\tTrue negatives: 12999\n",
      "\n"
     ]
    }
   ],
   "source": [
    "#bagging\n",
    "bagging = BaggingClassifier(KNeighborsClassifier(), max_samples=0.5, max_features=0.5)\n",
    "tester.test_classifier(bagging, my_dataset, selected_feaures)"
   ]
  },
  {
   "cell_type": "code",
   "execution_count": 86,
   "metadata": {
    "collapsed": true
   },
   "outputs": [],
   "source": [
    "#tuning randomForest\n",
    "data = featureFormat(my_dataset,selected_feaures,sort_keys=True,remove_all_zeroes=False)\n",
    "labels,features = targetFeatureSplit(data)"
   ]
  },
  {
   "cell_type": "code",
   "execution_count": 96,
   "metadata": {},
   "outputs": [
    {
     "data": {
      "text/plain": [
       "144"
      ]
     },
     "execution_count": 96,
     "metadata": {},
     "output_type": "execute_result"
    }
   ],
   "source": [
    "len(features)"
   ]
  },
  {
   "cell_type": "code",
   "execution_count": 83,
   "metadata": {},
   "outputs": [
    {
     "data": {
      "text/plain": [
       "StratifiedShuffleSplit(n_splits=[0.0, 0.0, 0.0, 0.0, 0.0, 0.0, 0.0, 1.0, 0.0, 0.0, 0.0, 0.0, 0.0, 0.0, 0.0, 1.0, 0.0, 0.0, 0.0, 0.0, 1.0, 0.0, 1.0, 0.0, 0.0, 0.0, 1.0, 0.0, 0.0, 0.0, 0.0, 1.0, 0.0, 0.0, 0.0, 0.0, 0.0, 0.0, 0.0, 0.0, 0.0, 0.0, 0.0, 1.0, 0.0, 0.0, 0.0, 0.0, 0.0, 0.0, 0.0, 0.0, 0.0, 0.0, 1.0, 0.0, 0.0, 0.0, ... 0.0, 0.0, 0.0, 0.0, 0.0, 0.0, 0.0, 0.0, 0.0, 0.0, 0.0, 0.0, 0.0, 0.0, 0.0, 0.0, 0.0, 0.0, 1.0, 0.0],\n",
       "            random_state=42, test_size=1000, train_size=0.2)"
      ]
     },
     "execution_count": 83,
     "metadata": {},
     "output_type": "execute_result"
    }
   ],
   "source": [
    "cv"
   ]
  },
  {
   "cell_type": "code",
   "execution_count": 107,
   "metadata": {},
   "outputs": [],
   "source": [
    "folds = 1000\n",
    "rf1 = RandomForestClassifier()\n",
    "rf_param = {\"min_samples_split\":(2,5,10,20),\"max_depth\":(3,5,7,10)}\n"
   ]
  },
  {
   "cell_type": "code",
   "execution_count": 108,
   "metadata": {},
   "outputs": [],
   "source": [
    "from sklearn.model_selection import StratifiedShuffleSplit,GridSearchCV\n",
    "\n",
    "cv = StratifiedShuffleSplit(labels,folds)"
   ]
  },
  {
   "cell_type": "code",
   "execution_count": 109,
   "metadata": {},
   "outputs": [],
   "source": [
    "grid = GridSearchCV(rf1, rf_param, cv=cv, scoring = 'f1')"
   ]
  },
  {
   "cell_type": "code",
   "execution_count": 110,
   "metadata": {},
   "outputs": [
    {
     "ename": "ValueError",
     "evalue": "test_size=1000 should be smaller than the number of samples 144",
     "output_type": "error",
     "traceback": [
      "\u001b[1;31m---------------------------------------------------------------------------\u001b[0m",
      "\u001b[1;31mValueError\u001b[0m                                Traceback (most recent call last)",
      "\u001b[1;32m<ipython-input-110-b2da6fe06441>\u001b[0m in \u001b[0;36m<module>\u001b[1;34m()\u001b[0m\n\u001b[1;32m----> 1\u001b[1;33m \u001b[0mgrid\u001b[0m\u001b[1;33m.\u001b[0m\u001b[0mfit\u001b[0m\u001b[1;33m(\u001b[0m\u001b[0mfeatures\u001b[0m\u001b[1;33m,\u001b[0m\u001b[0mlabels\u001b[0m\u001b[1;33m)\u001b[0m\u001b[1;33m\u001b[0m\u001b[0m\n\u001b[0m",
      "\u001b[1;32mC:\\Users\\Shanshan\\Anaconda2\\lib\\site-packages\\sklearn\\model_selection\\_search.pyc\u001b[0m in \u001b[0;36mfit\u001b[1;34m(self, X, y, groups)\u001b[0m\n\u001b[0;32m    943\u001b[0m             \u001b[0mtrain\u001b[0m\u001b[1;33m/\u001b[0m\u001b[0mtest\u001b[0m \u001b[0mset\u001b[0m\u001b[1;33m.\u001b[0m\u001b[1;33m\u001b[0m\u001b[0m\n\u001b[0;32m    944\u001b[0m         \"\"\"\n\u001b[1;32m--> 945\u001b[1;33m         \u001b[1;32mreturn\u001b[0m \u001b[0mself\u001b[0m\u001b[1;33m.\u001b[0m\u001b[0m_fit\u001b[0m\u001b[1;33m(\u001b[0m\u001b[0mX\u001b[0m\u001b[1;33m,\u001b[0m \u001b[0my\u001b[0m\u001b[1;33m,\u001b[0m \u001b[0mgroups\u001b[0m\u001b[1;33m,\u001b[0m \u001b[0mParameterGrid\u001b[0m\u001b[1;33m(\u001b[0m\u001b[0mself\u001b[0m\u001b[1;33m.\u001b[0m\u001b[0mparam_grid\u001b[0m\u001b[1;33m)\u001b[0m\u001b[1;33m)\u001b[0m\u001b[1;33m\u001b[0m\u001b[0m\n\u001b[0m\u001b[0;32m    946\u001b[0m \u001b[1;33m\u001b[0m\u001b[0m\n\u001b[0;32m    947\u001b[0m \u001b[1;33m\u001b[0m\u001b[0m\n",
      "\u001b[1;32mC:\\Users\\Shanshan\\Anaconda2\\lib\\site-packages\\sklearn\\model_selection\\_search.pyc\u001b[0m in \u001b[0;36m_fit\u001b[1;34m(self, X, y, groups, parameter_iterable)\u001b[0m\n\u001b[0;32m    551\u001b[0m         \u001b[0mpre_dispatch\u001b[0m \u001b[1;33m=\u001b[0m \u001b[0mself\u001b[0m\u001b[1;33m.\u001b[0m\u001b[0mpre_dispatch\u001b[0m\u001b[1;33m\u001b[0m\u001b[0m\n\u001b[0;32m    552\u001b[0m \u001b[1;33m\u001b[0m\u001b[0m\n\u001b[1;32m--> 553\u001b[1;33m         \u001b[0mcv_iter\u001b[0m \u001b[1;33m=\u001b[0m \u001b[0mlist\u001b[0m\u001b[1;33m(\u001b[0m\u001b[0mcv\u001b[0m\u001b[1;33m.\u001b[0m\u001b[0msplit\u001b[0m\u001b[1;33m(\u001b[0m\u001b[0mX\u001b[0m\u001b[1;33m,\u001b[0m \u001b[0my\u001b[0m\u001b[1;33m,\u001b[0m \u001b[0mgroups\u001b[0m\u001b[1;33m)\u001b[0m\u001b[1;33m)\u001b[0m\u001b[1;33m\u001b[0m\u001b[0m\n\u001b[0m\u001b[0;32m    554\u001b[0m         out = Parallel(\n\u001b[0;32m    555\u001b[0m             \u001b[0mn_jobs\u001b[0m\u001b[1;33m=\u001b[0m\u001b[0mself\u001b[0m\u001b[1;33m.\u001b[0m\u001b[0mn_jobs\u001b[0m\u001b[1;33m,\u001b[0m \u001b[0mverbose\u001b[0m\u001b[1;33m=\u001b[0m\u001b[0mself\u001b[0m\u001b[1;33m.\u001b[0m\u001b[0mverbose\u001b[0m\u001b[1;33m,\u001b[0m\u001b[1;33m\u001b[0m\u001b[0m\n",
      "\u001b[1;32mC:\\Users\\Shanshan\\Anaconda2\\lib\\site-packages\\sklearn\\model_selection\\_split.pyc\u001b[0m in \u001b[0;36msplit\u001b[1;34m(self, X, y, groups)\u001b[0m\n\u001b[0;32m    951\u001b[0m         \"\"\"\n\u001b[0;32m    952\u001b[0m         \u001b[0mX\u001b[0m\u001b[1;33m,\u001b[0m \u001b[0my\u001b[0m\u001b[1;33m,\u001b[0m \u001b[0mgroups\u001b[0m \u001b[1;33m=\u001b[0m \u001b[0mindexable\u001b[0m\u001b[1;33m(\u001b[0m\u001b[0mX\u001b[0m\u001b[1;33m,\u001b[0m \u001b[0my\u001b[0m\u001b[1;33m,\u001b[0m \u001b[0mgroups\u001b[0m\u001b[1;33m)\u001b[0m\u001b[1;33m\u001b[0m\u001b[0m\n\u001b[1;32m--> 953\u001b[1;33m         \u001b[1;32mfor\u001b[0m \u001b[0mtrain\u001b[0m\u001b[1;33m,\u001b[0m \u001b[0mtest\u001b[0m \u001b[1;32min\u001b[0m \u001b[0mself\u001b[0m\u001b[1;33m.\u001b[0m\u001b[0m_iter_indices\u001b[0m\u001b[1;33m(\u001b[0m\u001b[0mX\u001b[0m\u001b[1;33m,\u001b[0m \u001b[0my\u001b[0m\u001b[1;33m,\u001b[0m \u001b[0mgroups\u001b[0m\u001b[1;33m)\u001b[0m\u001b[1;33m:\u001b[0m\u001b[1;33m\u001b[0m\u001b[0m\n\u001b[0m\u001b[0;32m    954\u001b[0m             \u001b[1;32myield\u001b[0m \u001b[0mtrain\u001b[0m\u001b[1;33m,\u001b[0m \u001b[0mtest\u001b[0m\u001b[1;33m\u001b[0m\u001b[0m\n\u001b[0;32m    955\u001b[0m \u001b[1;33m\u001b[0m\u001b[0m\n",
      "\u001b[1;32mC:\\Users\\Shanshan\\Anaconda2\\lib\\site-packages\\sklearn\\model_selection\\_split.pyc\u001b[0m in \u001b[0;36m_iter_indices\u001b[1;34m(self, X, y, groups)\u001b[0m\n\u001b[0;32m   1251\u001b[0m         \u001b[0my\u001b[0m \u001b[1;33m=\u001b[0m \u001b[0mcheck_array\u001b[0m\u001b[1;33m(\u001b[0m\u001b[0my\u001b[0m\u001b[1;33m,\u001b[0m \u001b[0mensure_2d\u001b[0m\u001b[1;33m=\u001b[0m\u001b[0mFalse\u001b[0m\u001b[1;33m,\u001b[0m \u001b[0mdtype\u001b[0m\u001b[1;33m=\u001b[0m\u001b[0mNone\u001b[0m\u001b[1;33m)\u001b[0m\u001b[1;33m\u001b[0m\u001b[0m\n\u001b[0;32m   1252\u001b[0m         n_train, n_test = _validate_shuffle_split(n_samples, self.test_size,\n\u001b[1;32m-> 1253\u001b[1;33m                                                   self.train_size)\n\u001b[0m\u001b[0;32m   1254\u001b[0m         \u001b[0mclasses\u001b[0m\u001b[1;33m,\u001b[0m \u001b[0my_indices\u001b[0m \u001b[1;33m=\u001b[0m \u001b[0mnp\u001b[0m\u001b[1;33m.\u001b[0m\u001b[0munique\u001b[0m\u001b[1;33m(\u001b[0m\u001b[0my\u001b[0m\u001b[1;33m,\u001b[0m \u001b[0mreturn_inverse\u001b[0m\u001b[1;33m=\u001b[0m\u001b[0mTrue\u001b[0m\u001b[1;33m)\u001b[0m\u001b[1;33m\u001b[0m\u001b[0m\n\u001b[0;32m   1255\u001b[0m         \u001b[0mn_classes\u001b[0m \u001b[1;33m=\u001b[0m \u001b[0mclasses\u001b[0m\u001b[1;33m.\u001b[0m\u001b[0mshape\u001b[0m\u001b[1;33m[\u001b[0m\u001b[1;36m0\u001b[0m\u001b[1;33m]\u001b[0m\u001b[1;33m\u001b[0m\u001b[0m\n",
      "\u001b[1;32mC:\\Users\\Shanshan\\Anaconda2\\lib\\site-packages\\sklearn\\model_selection\\_split.pyc\u001b[0m in \u001b[0;36m_validate_shuffle_split\u001b[1;34m(n_samples, test_size, train_size)\u001b[0m\n\u001b[0;32m   1369\u001b[0m             test_size >= n_samples):\n\u001b[0;32m   1370\u001b[0m         raise ValueError('test_size=%d should be smaller than the number of '\n\u001b[1;32m-> 1371\u001b[1;33m                          'samples %d' % (test_size, n_samples))\n\u001b[0m\u001b[0;32m   1372\u001b[0m \u001b[1;33m\u001b[0m\u001b[0m\n\u001b[0;32m   1373\u001b[0m     if (train_size is not None and np.asarray(train_size).dtype.kind == 'i' and\n",
      "\u001b[1;31mValueError\u001b[0m: test_size=1000 should be smaller than the number of samples 144"
     ]
    }
   ],
   "source": [
    "grid.fit(features,labels)"
   ]
  },
  {
   "cell_type": "code",
   "execution_count": 97,
   "metadata": {},
   "outputs": [
    {
     "name": "stdout",
     "output_type": "stream",
     "text": [
      "The best parameters are {'min_samples_split': 2, 'criterion': 'gini', 'max_depth': 7} with a score of 0.3910\n"
     ]
    }
   ],
   "source": [
    "print(\"The best parameters are %s with a score of %0.4f\" %(grid.best_params_, grid.best_score_))"
   ]
  },
  {
   "cell_type": "code",
   "execution_count": 155,
   "metadata": {},
   "outputs": [
    {
     "name": "stdout",
     "output_type": "stream",
     "text": [
      "RandomForestClassifier(bootstrap=True, class_weight=None, criterion='gini',\n",
      "            max_depth=7, max_features='auto', max_leaf_nodes=None,\n",
      "            min_impurity_split=1e-07, min_samples_leaf=1,\n",
      "            min_samples_split=2, min_weight_fraction_leaf=0.0,\n",
      "            n_estimators=10, n_jobs=1, oob_score=False, random_state=None,\n",
      "            verbose=0, warm_start=False)\n",
      "\tAccuracy: 0.86553\tPrecision: 0.49099\tRecall: 0.23150\tF1: 0.31464\tF2: 0.25886\n",
      "\tTotal predictions: 15000\tTrue positives:  463\tFalse positives:  480\tFalse negatives: 1537\tTrue negatives: 12520\n",
      "\n"
     ]
    }
   ],
   "source": [
    "#random forest\n",
    "rf_best = RandomForestClassifier(min_samples_split=2,max_depth=7)\n",
    "tester.test_classifier(rf_best,my_dataset,selected_feaures)"
   ]
  },
  {
   "cell_type": "markdown",
   "metadata": {},
   "source": [
    "RandomForestClassifier(bootstrap=True, class_weight=None, criterion='gini',\n",
    "            max_depth=7, max_features='auto', max_leaf_nodes=None,\n",
    "            min_impurity_split=1e-07, min_samples_leaf=1,\n",
    "            min_samples_split=2, min_weight_fraction_leaf=0.0,\n",
    "            n_estimators=10, n_jobs=1, oob_score=False, random_state=None,\n",
    "            verbose=0, warm_start=False)\n",
    "\tAccuracy: 0.88307\tPrecision: 0.61002\tRecall: 0.34100\tF1: 0.43746\tF2: 0.37399\n",
    "\tTotal predictions: 15000\tTrue positives:  682\tFalse positives:  436\tFalse negatives: 1318\tTrue negatives: 12564"
   ]
  },
  {
   "cell_type": "code",
   "execution_count": 160,
   "metadata": {},
   "outputs": [
    {
     "name": "stdout",
     "output_type": "stream",
     "text": [
      "RandomForestClassifier(bootstrap=True, class_weight=None, criterion='gini',\n",
      "            max_depth=7, max_features='auto', max_leaf_nodes=None,\n",
      "            min_impurity_split=1e-07, min_samples_leaf=1,\n",
      "            min_samples_split=2, min_weight_fraction_leaf=0.0,\n",
      "            n_estimators=10, n_jobs=1, oob_score=False, random_state=None,\n",
      "            verbose=0, warm_start=False)\n",
      "\tAccuracy: 0.85960\tPrecision: 0.44525\tRecall: 0.21550\tF1: 0.29043\tF2: 0.24030\n",
      "\tTotal predictions: 15000\tTrue positives:  431\tFalse positives:  537\tFalse negatives: 1569\tTrue negatives: 12463\n",
      "\n"
     ]
    }
   ],
   "source": [
    "dump_classifier_and_data(rf_best,my_dataset,selected_feaures)\n",
    "tester.main()"
   ]
  },
  {
   "cell_type": "code",
   "execution_count": null,
   "metadata": {
    "collapsed": true
   },
   "outputs": [],
   "source": []
  }
 ],
 "metadata": {
  "kernelspec": {
   "display_name": "Python 2",
   "language": "python",
   "name": "python2"
  },
  "language_info": {
   "codemirror_mode": {
    "name": "ipython",
    "version": 2
   },
   "file_extension": ".py",
   "mimetype": "text/x-python",
   "name": "python",
   "nbconvert_exporter": "python",
   "pygments_lexer": "ipython2",
   "version": "2.7.13"
  }
 },
 "nbformat": 4,
 "nbformat_minor": 2
}
